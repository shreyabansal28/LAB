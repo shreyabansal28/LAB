{
 "cells": [
  {
   "cell_type": "code",
   "execution_count": 7,
   "id": "4eae014e",
   "metadata": {},
   "outputs": [
    {
     "name": "stdout",
     "output_type": "stream",
     "text": [
      "correlation between corruption index and ginni index is :  0.9088564679448649\n"
     ]
    }
   ],
   "source": [
    "import pandas as pd\n",
    "\n",
    "df = pd.read_csv('country1.csv')\n",
    "\n",
    "# 6.1 find the correlation between all input features\n",
    "# Let us consider the Ginni index of a country as output, now from country and corruption index we can only choose corruption index for correlation as country as a string and there is no correlation between a string and a number\n",
    "corr = df[\"Corruption_Index\"].corr(df[\"Gini_Index\"])\n",
    "print(\"correlation between corruption index and ginni index is : \", corr)\n",
    "\n",
    "# 6.2 build the\n",
    "# As the correlation is 0.90 which is greater than 0.6 so we can select corruption index as x and ginni index as y\n",
    "\n",
    "X = df[\"Corruption_Index\"]\n",
    "Y = df[\"Gini_Index\"]\n",
    "\n"
   ]
  },
  {
   "cell_type": "code",
   "execution_count": null,
   "id": "9a0bc80f",
   "metadata": {},
   "outputs": [],
   "source": []
  },
  {
   "cell_type": "code",
   "execution_count": null,
   "id": "0a275aee",
   "metadata": {},
   "outputs": [],
   "source": []
  }
 ],
 "metadata": {
  "kernelspec": {
   "display_name": "Python 3 (ipykernel)",
   "language": "python",
   "name": "python3"
  },
  "language_info": {
   "codemirror_mode": {
    "name": "ipython",
    "version": 3
   },
   "file_extension": ".py",
   "mimetype": "text/x-python",
   "name": "python",
   "nbconvert_exporter": "python",
   "pygments_lexer": "ipython3",
   "version": "3.11.3"
  }
 },
 "nbformat": 4,
 "nbformat_minor": 5
}
