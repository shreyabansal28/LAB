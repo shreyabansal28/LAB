{
 "cells": [
  {
   "cell_type": "markdown",
   "metadata": {},
   "source": [
    "### 1. Use the csv/xls file assigned to you, and Report correlation of all input features with the output variable (Y). If features are more than one, report the features correlated at a cutoff of 0.6."
   ]
  },
  {
   "cell_type": "code",
   "execution_count": 2,
   "metadata": {},
   "outputs": [
    {
     "name": "stdout",
     "output_type": "stream",
     "text": [
      "Correlation between Corruption_Index and Gini_Index :  0.9088564679448649\n"
     ]
    }
   ],
   "source": [
    "import pandas as pd\n",
    "import statsmodels.api as sm\n",
    "import matplotlib.pyplot as plt\n",
    "import numpy as np\n",
    "from sklearn.model_selection import train_test_split\n",
    "from sklearn.metrics import r2_score, mean_squared_error\n",
    "\n",
    "df = pd.read_csv('country1.csv')\n",
    "\n",
    "# Assuming \"Corruption_Index\" is the output variable (Y)\n",
    "Y = df[\"Gini_Index\"]\n",
    "\n",
    "# Calculate the correlation between \"Gini_Index\" and \"Corruption_Index\"\n",
    "correlation = df[\"Corruption_Index\"].corr(Y)\n",
    "\n",
    "print(\"Correlation between Corruption_Index and Gini_Index : \", correlation)"
   ]
  },
  {
   "cell_type": "markdown",
   "metadata": {},
   "source": [
    "### 2. Now Use the feature with the highestcorrelation as X, and build the Simple Linear regression (SLR) model for X vs Y. Display it’s coefficients, R-square value, and check its significance for alpha=0.1"
   ]
  },
  {
   "cell_type": "code",
   "execution_count": 76,
   "metadata": {},
   "outputs": [
    {
     "data": {
      "image/png": "[encoded data removed]",
      "text/plain": [
       "<Figure size 640x480 with 1 Axes>"
      ]
     },
     "metadata": {},
     "output_type": "display_data"
    },
    {
     "name": "stdout",
     "output_type": "stream",
     "text": [
      "summary of the linear regression model is : \n",
      "                             OLS Regression Results                            \n",
      "==============================================================================\n",
      "Dep. Variable:             Gini_Index   R-squared:                       0.813\n",
      "Model:                            OLS   Adj. R-squared:                  0.805\n",
      "Method:                 Least Squares   F-statistic:                     95.66\n",
      "Date:                Mon, 11 Sep 2023   Prob (F-statistic):           1.80e-09\n",
      "Time:                        11:54:16   Log-Likelihood:                -60.355\n",
      "No. Observations:                  24   AIC:                             124.7\n",
      "Df Residuals:                      22   BIC:                             127.1\n",
      "Df Model:                           1                                         \n",
      "Covariance Type:            nonrobust                                         \n",
      "====================================================================================\n",
      "                       coef    std err          t      P>|t|      [0.025      0.975]\n",
      "------------------------------------------------------------------------------------\n",
      "const               18.7062      1.560     11.989      0.000      15.470      21.942\n",
      "Corruption_Index     0.2328      0.024      9.781      0.000       0.183       0.282\n",
      "==============================================================================\n",
      "Omnibus:                       52.917   Durbin-Watson:                   2.132\n",
      "Prob(Omnibus):                  0.000   Jarque-Bera (JB):              301.123\n",
      "Skew:                           3.963   Prob(JB):                     4.09e-66\n",
      "Kurtosis:                      18.437   Cond. No.                         160.\n",
      "==============================================================================\n",
      "\n",
      "Notes:\n",
      "[1] Standard Errors assume that the covariance matrix of the errors is correctly specified.\n",
      "\n",
      "\n",
      "Corruption_index is significant (p-value = 0.0000 < 0.1)\n"
     ]
    }
   ],
   "source": [
    "# Define the independent variable (X) and dependent variable (Y)\n",
    "X = df[\"Corruption_Index\"]\n",
    "Y = df[\"Gini_Index\"]\n",
    "\n",
    "X = sm.add_constant(X)\n",
    "\n",
    "# dividing in training and testing sets\n",
    "X_train, X_test, Y_train, Y_test = train_test_split(X, Y, test_size=0.2, random_state=42)\n",
    "\n",
    "# Create and fit the Simple Linear Regression model\n",
    "model = sm.OLS(Y_train, X_train).fit()\n",
    "\n",
    "# Plot the data points\n",
    "plt.scatter(X_train[\"Corruption_Index\"], Y_train, label=\"Data Points\")\n",
    "\n",
    "# Plot the regression line\n",
    "#X_graph = pd.DataFrame({'Corruption_Index': np.linspace(X_train[\"Corruption_Index\"].min(), X_train[\"Corruption_Index\"].max(), 100)})\n",
    "X_graph = sm.add_constant(X_graph)\n",
    "Y_graph = model.predict(X_graph)\n",
    "plt.plot(X_graph[\"Corruption_Index\"], Y_graph, color='red', linewidth=2, label=\"Regression Line\")\n",
    "\n",
    "# Add labels and a legend\n",
    "plt.xlabel(\"Corruption_Index\")\n",
    "plt.ylabel(\"Gini_Index\")\n",
    "plt.legend()\n",
    "\n",
    "# Display the plot\n",
    "plt.show()\n",
    "\n",
    "\n",
    "print(\"summary of the linear regression model is : \\n\", model.summary())\n",
    "# Check the significance of the coefficient for alpha = 0.1\n",
    "alpha = 0.1\n",
    "p_value = model.pvalues[\"Corruption_Index\"]\n",
    "if p_value < alpha:\n",
    "    print(f\"\\n\\nCorruption_index is significant (p-value = {p_value:.4f} < {alpha})\")\n",
    "else:\n",
    "    print(f\"\\n\\nCorruption_Index is not significant (p-value = {p_value:.4f} >= {alpha})\")"
   ]
  },
  {
   "cell_type": "markdown",
   "metadata": {},
   "source": [
    "### 3."
   ]
  },
  {
   "cell_type": "code",
   "execution_count": 77,
   "metadata": {},
   "outputs": [
    {
     "name": "stdout",
     "output_type": "stream",
     "text": [
      "\n",
      "Actual vs. Predicted Values:\n",
      "    Actual Gini_Index  Predicted Gini_Index\n",
      "27               31.4             31.973829\n",
      "15               32.4             33.137660\n",
      "23               39.8             41.750008\n",
      "17               27.2             27.085740\n",
      "8                37.2             37.792983\n",
      "9                36.8             38.258515\n",
      "\n",
      "\n",
      "R-squared (R²): 0.9331\n",
      "Mean Squared Error (MSE): 1.1947\n"
     ]
    }
   ],
   "source": [
    "\n",
    "# Predict the output over the test data\n",
    "Y_pred = model.predict(X_test)\n",
    "\n",
    "# Create a DataFrame to display actual and predicted values\n",
    "results_df = pd.DataFrame({\n",
    "    \"Actual Gini_Index\": Y_test,\n",
    "    \"Predicted Gini_Index\": Y_pred\n",
    "})\n",
    "\n",
    "# Display the DataFrame with actual and predicted values\n",
    "print(\"\\nActual vs. Predicted Values:\")\n",
    "print(results_df)\n",
    "\n",
    "# Compute R-squared (R²) and Mean Squared Error (MSE)\n",
    "r_squared = r2_score(Y_test, Y_pred)\n",
    "mse = mean_squared_error(Y_test, Y_pred)\n",
    "\n",
    "# Display the results\n",
    "print(f\"\\n\\nR-squared (R²): {r_squared:.4f}\")\n",
    "print(f\"Mean Squared Error (MSE): {mse:.4f}\")"
   ]
  },
  {
   "cell_type": "markdown",
   "metadata": {},
   "source": [
    "### 4."
   ]
  },
  {
   "cell_type": "code",
   "execution_count": 1,
   "metadata": {},
   "outputs": [
    {
     "name": "stdout",
     "output_type": "stream",
     "text": [
      "0     77\n",
      "1     53\n",
      "2     15\n",
      "3     47\n",
      "4     38\n",
      "5     75\n",
      "6     85\n",
      "7     81\n",
      "8     82\n",
      "9     84\n",
      "10    88\n",
      "11    91\n",
      "12    69\n",
      "13    74\n",
      "14    97\n",
      "15    62\n",
      "16    48\n",
      "17    36\n",
      "18    44\n",
      "19    35\n",
      "20    18\n",
      "21    92\n",
      "22    19\n",
      "23    99\n",
      "24    15\n",
      "25    94\n",
      "26    67\n",
      "27    57\n",
      "28    77\n",
      "29    37\n",
      "Name: Corruption_Index, dtype: int64 0     35.0\n",
      "1     31.0\n",
      "2     23.3\n",
      "3     29.4\n",
      "4     27.4\n",
      "5     35.3\n",
      "6     36.8\n",
      "7     36.4\n",
      "8     37.2\n",
      "9     36.8\n",
      "10    37.6\n",
      "11    38.2\n",
      "12    33.8\n",
      "13    34.8\n",
      "14    55.0\n",
      "15    32.4\n",
      "16    29.6\n",
      "17    27.2\n",
      "18    28.8\n",
      "19    27.0\n",
      "20    23.6\n",
      "21    38.4\n",
      "22    23.8\n",
      "23    39.8\n",
      "24    23.0\n",
      "25    38.8\n",
      "26    33.4\n",
      "27    31.4\n",
      "28    35.4\n",
      "29    27.4\n",
      "Name: Gini_Index, dtype: float64\n",
      "Outliers detected by Z-score: [14]\n",
      "Outliers detected by Cook's distance: [14]\n",
      "Outliers detected by leverage: []\n",
      "outlier data is : \n",
      "     const  Corruption_Index\n",
      "14    1.0                97 [55.]\n",
      "Common outliers detected by all methods: {14}\n"
     ]
    }
   ],
   "source": [
    "import pandas as pd\n",
    "import statsmodels.api as sm\n",
    "import matplotlib.pyplot as plt\n",
    "import numpy as np\n",
    "from sklearn.model_selection import train_test_split\n",
    "from sklearn.metrics import r2_score, mean_squared_error\n",
    "\n",
    "df = pd.read_csv('country1.csv')\n",
    "\n",
    "X2 = df[\"Corruption_Index\"]\n",
    "Y2 = df[\"Gini_Index\"]\n",
    "\n",
    "X2 = sm.add_constant(X2)\n",
    "\n",
    "model2 = sm.OLS(Y2, X2).fit()\n",
    "\n",
    "print(X2[\"Corruption_Index\"], Y2)\n",
    "\n",
    "# Calculate residuals and standardized residuals (Z-score)\n",
    "residuals = model2.resid\n",
    "std_residuals = model2.get_influence().resid_studentized_internal\n",
    "\n",
    "# Calculate Cook's distance\n",
    "influence = model2.get_influence()\n",
    "cook_distance = influence.cooks_distance[0]\n",
    "\n",
    "# Calculate leverage values\n",
    "leverage = influence.hat_matrix_diag\n",
    "\n",
    "# Set a threshold for outlier detection\n",
    "z_score_threshold = 3  # You can adjust this threshold as needed\n",
    "cook_threshold = 1  # Suggested threshold for Cook's distance\n",
    "leverage_threshold = 2 * (len(df.columns) + 1) / len(df)\n",
    "\n",
    "# Detect outliers using Z-score, Cook's distance, and leverage\n",
    "z_score_outliers = np.where(np.abs(std_residuals) > z_score_threshold)[0]\n",
    "cook_outliers = np.where(cook_distance > cook_threshold)[0]\n",
    "leverage_outliers = np.where(leverage >  leverage_threshold)[0]\n",
    "\n",
    "# Display the detected outliers\n",
    "print(\"Outliers detected by Z-score:\", z_score_outliers)\n",
    "print(\"Outliers detected by Cook's distance:\", cook_outliers)\n",
    "print(\"Outliers detected by leverage:\", leverage_outliers)\n",
    "\n",
    "# Analyze whether the outliers detected by different methods are the same or not\n",
    "common_outliers = set(z_score_outliers)  & set(cook_outliers)\n",
    "\n",
    "print(\"outlier data is : \\n\", X2.iloc[z_score_outliers], Y2.iloc[z_score_outliers].values)\n",
    "\n",
    "if len(common_outliers) > 0:\n",
    "    print(\"Common outliers detected by all methods:\", common_outliers)\n",
    "else:\n",
    "    print(\"No common outliers detected by all methods.\")"
   ]
  },
  {
   "cell_type": "code",
   "execution_count": null,
   "metadata": {},
   "outputs": [],
   "source": []
  }
 ],
 "metadata": {
  "kernelspec": {
   "display_name": "Python 3 (ipykernel)",
   "language": "python",
   "name": "python3"
  },
  "language_info": {
   "codemirror_mode": {
    "name": "ipython",
    "version": 3
   },
   "file_extension": ".py",
   "mimetype": "text/x-python",
   "name": "python",
   "nbconvert_exporter": "python",
   "pygments_lexer": "ipython3",
   "version": "3.11.3"
  }
 },
 "nbformat": 4,
 "nbformat_minor": 2
}
