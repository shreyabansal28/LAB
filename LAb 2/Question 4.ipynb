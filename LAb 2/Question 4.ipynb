{
 "cells": [
  {
   "cell_type": "code",
   "execution_count": 1,
   "id": "d8f682ca",
   "metadata": {},
   "outputs": [
    {
     "name": "stdout",
     "output_type": "stream",
     "text": [
      "Farmers spraying more than 50L of pesticide per week is:  0.008197535924596155\n",
      "Proportion of farmers spraying less than 10L of pesticide per week is:  1.0717590258310887e-08\n",
      "Proportion of farmers spraying between 30L to 60L of pesticide per week is:  0.9451952957565343\n"
     ]
    }
   ],
   "source": [
    "from scipy import stats\n",
    "## we are given mean = 38, std = 5\n",
    "\n",
    "## a. spraying more than 50L in a week --> [1 - (<=50)]\n",
    "\n",
    "\n",
    "\n",
    "lessThan50 = stats.norm.cdf(50, loc=38, scale=5)\n",
    "ansPartA = 1 - lessThan50\n",
    "\n",
    "print(\"Farmers spraying more than 50L of pesticide per week is: \", ansPartA)\n",
    "\n",
    "## b. Proportion of famers spraying less than 10L\n",
    "\n",
    "\n",
    "lessThan10=stats.norm.cdf(10, loc=38, scale=5)\n",
    "\n",
    "print(\"Proportion of farmers spraying less than 10L of pesticide per week is: \", lessThan10)\n",
    "\n",
    "## c. Proportion of farmers spraying between 30L to 60L\n",
    "\n",
    "\n",
    "lessThan60 = stats.norm.cdf(60, loc=38, scale=5)\n",
    "lessThan30 = stats.norm.cdf(30, loc=38, scale=5)\n",
    "\n",
    "ansPartC = lessThan60-lessThan30\n",
    "\n",
    "print(\"Proportion of farmers spraying between 30L to 60L of pesticide per week is: \", ansPartC)\n"
   ]
  },
  {
   "cell_type": "code",
   "execution_count": null,
   "id": "969cb9dd",
   "metadata": {},
   "outputs": [],
   "source": []
  }
 ],
 "metadata": {
  "kernelspec": {
   "display_name": "Python 3 (ipykernel)",
   "language": "python",
   "name": "python3"
  },
  "language_info": {
   "codemirror_mode": {
    "name": "ipython",
    "version": 3
   },
   "file_extension": ".py",
   "mimetype": "text/x-python",
   "name": "python",
   "nbconvert_exporter": "python",
   "pygments_lexer": "ipython3",
   "version": "3.11.3"
  }
 },
 "nbformat": 4,
 "nbformat_minor": 5
}
