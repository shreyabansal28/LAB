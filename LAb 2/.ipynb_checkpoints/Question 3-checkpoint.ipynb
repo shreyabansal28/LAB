{
 "cells": [
  {
   "cell_type": "code",
   "execution_count": 14,
   "id": "fbc8a915",
   "metadata": {},
   "outputs": [
    {
     "name": "stdout",
     "output_type": "stream",
     "text": [
      "Probability that system fails before 85 hrs:  0.6321162308096733\n"
     ]
    }
   ],
   "source": [
    "from scipy import stats\n",
    "# the distribution follows exponential distribution\n",
    "# Probability that the system will fail before 85 hours\n",
    "probab = stats.expon.cdf( 85,loc = 1/1000,scale = 85)\n",
    "print(\"Probability that system fails before 85 hrs: \", probab)"
   ]
  },
  {
   "cell_type": "code",
   "execution_count": 15,
   "id": "0f2ea02e",
   "metadata": {},
   "outputs": [
    {
     "name": "stdout",
     "output_type": "stream",
     "text": [
      "Probability that system will not fail upto 150 hrs:  0.1712391575112614\n"
     ]
    }
   ],
   "source": [
    "#Probability that it will not fail upto 150 hrs\n",
    "p2 = 1 - stats.expon.cdf(150, loc = 1/1000, scale = 85)\n",
    "print(\"Probability that system will not fail upto 150 hrs: \", p2)"
   ]
  },
  {
   "cell_type": "code",
   "execution_count": null,
   "id": "e75ea384",
   "metadata": {},
   "outputs": [],
   "source": []
  }
 ],
 "metadata": {
  "kernelspec": {
   "display_name": "Python 3 (ipykernel)",
   "language": "python",
   "name": "python3"
  },
  "language_info": {
   "codemirror_mode": {
    "name": "ipython",
    "version": 3
   },
   "file_extension": ".py",
   "mimetype": "text/x-python",
   "name": "python",
   "nbconvert_exporter": "python",
   "pygments_lexer": "ipython3",
   "version": "3.11.3"
  }
 },
 "nbformat": 4,
 "nbformat_minor": 5
}
