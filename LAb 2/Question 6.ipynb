{
 "cells": [
  {
   "cell_type": "code",
   "execution_count": 3,
   "id": "f5799977",
   "metadata": {},
   "outputs": [
    {
     "name": "stdout",
     "output_type": "stream",
     "text": [
      "The sample is  [24.22384706 22.39967019 20.09742113 20.72769131 21.16055134 23.61457635\n",
      " 22.95535429 21.97898967 22.29593446 21.26830236 21.39963924 23.83731128\n",
      " 20.9574474  21.87067037 21.29260056 21.98320376 21.76871937 21.22925153\n",
      " 22.178415   20.93100066 22.19556534 22.54659368 21.54667763 23.1364419\n",
      " 19.43401677 21.41661137 20.81628301 21.43673436 22.65254149 19.92292768\n",
      " 21.96419366 22.97198465 20.56270644 20.42163852 24.084489   22.20273879\n",
      " 21.805947   21.26738257 21.19839021 21.62524483 20.76824924 19.98003698\n",
      " 22.12080832 20.17511493 21.99305016 21.2416806  23.32761525 25.00918673\n",
      " 19.64579815 23.03707984 22.75518776 23.34417562 24.43876092 23.67521952\n",
      " 22.22096771 23.893133   21.23994036 21.09051264 20.82823321 21.54282354\n",
      " 21.3216414  22.68387735 22.70666519 21.67557702 22.86762989 22.78503535\n",
      " 23.14734501 24.78300302 21.59284318 23.25331931 21.9700714  22.86301372\n",
      " 21.87464409 22.85867802 20.13243904 21.99043616 21.52001512 21.96172804\n",
      " 20.50307181 22.82094499 22.43483816 23.713075   22.99379523 21.048117\n",
      " 19.60636125 22.47533228 21.42236481 23.93445395 23.33307593 22.34909574\n",
      " 21.54573846 20.97439449 21.24683234 20.39644063 22.27779615 22.67732912\n",
      " 22.3226996  23.38428215 21.87318466 20.97153326]\n",
      "Test result are :  TtestResult(statistic=183.27308168769406, pvalue=3.780560303567519e-127, df=99)\n"
     ]
    }
   ],
   "source": [
    "from scipy import stats\n",
    "import numpy as np\n",
    "import pandas as pd\n",
    "\n",
    "## The given ques will be solved by one sample t-test, since we don't know the populationstd dev \n",
    "## and there is one sample given\n",
    "\n",
    "## sample size = 100\n",
    "## sample defects = 22\n",
    "## alpha = 0.05\n",
    "## H0 = defects <= 18%\n",
    "\n",
    "\n",
    "desired_mean=22\n",
    "\n",
    "random_values = np.random.randn(100)\n",
    "\n",
    "# Calculate the current mean of the generated values\n",
    "current_mean = np.mean(random_values)\n",
    "\n",
    "# Shift the random values to achieve the desired mean\n",
    "shifted_values = random_values + (desired_mean - current_mean)\n",
    "\n",
    "print(\"The sample is \", shifted_values)\n",
    "\n",
    "test_res = stats.ttest_1samp(shifted_values,0.18)\n",
    "print(\"Test result are : \", test_res)"
   ]
  },
  {
   "cell_type": "code",
   "execution_count": null,
   "id": "68e504c2",
   "metadata": {},
   "outputs": [],
   "source": []
  }
 ],
 "metadata": {
  "kernelspec": {
   "display_name": "Python 3 (ipykernel)",
   "language": "python",
   "name": "python3"
  },
  "language_info": {
   "codemirror_mode": {
    "name": "ipython",
    "version": 3
   },
   "file_extension": ".py",
   "mimetype": "text/x-python",
   "name": "python",
   "nbconvert_exporter": "python",
   "pygments_lexer": "ipython3",
   "version": "3.11.3"
  }
 },
 "nbformat": 4,
 "nbformat_minor": 5
}
