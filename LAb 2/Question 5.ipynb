{
 "cells": [
  {
   "cell_type": "code",
   "execution_count": 17,
   "id": "b88f3706",
   "metadata": {},
   "outputs": [
    {
     "name": "stdout",
     "output_type": "stream",
     "text": [
      "z_value and p value of the data is :  -11.321028242757974  ,  5.162682749978096e-30\n",
      "As the p value is less than 0.05 and z value is also less than -1.64 then the null hypothesis is failed \n",
      "Hence the population mean is less than 5 Litres\n"
     ]
    }
   ],
   "source": [
    "from scipy import stats\n",
    "import math \n",
    "\n",
    "#defining the function for z -test\n",
    "def z_test_calc(pop_mean, pop_std, sample_mean, sample_size) :\n",
    "    z_score = (sample_mean - pop_mean)/(pop_std/math.sqrt(sample_size))\n",
    "    return z_score, stats.norm.cdf(z_score)\n",
    "\n",
    "#According to question\n",
    "population_mean = 5000\n",
    "sample_size = 60\n",
    "sample_mean = 4998.1\n",
    "population_deviation = 1.3\n",
    "alpha = 0.05\n",
    "\n",
    "# Let the hypothesis be\n",
    "# H0(null hypothesis) = population mean is atleast 5000, mu >= 5000\n",
    "# H1 = population mean is less than 5000\n",
    "\n",
    "# left tailed z test\n",
    "z_score, p_value = z_test_calc(population_mean, population_deviation, sample_mean, sample_size)\n",
    "print(\"z_value and p value of the data is : \", z_score, \" , \", p_value)\n",
    "\n",
    "print(\"As the p value is less than 0.05 and z value is also less than -1.64 then the null hypothesis is failed \")\n",
    "print(\"Hence the population mean is less than 5 Litres\")"
   ]
  },
  {
   "cell_type": "code",
   "execution_count": null,
   "id": "ff8c88c8",
   "metadata": {},
   "outputs": [],
   "source": []
  }
 ],
 "metadata": {
  "kernelspec": {
   "display_name": "Python 3 (ipykernel)",
   "language": "python",
   "name": "python3"
  },
  "language_info": {
   "codemirror_mode": {
    "name": "ipython",
    "version": 3
   },
   "file_extension": ".py",
   "mimetype": "text/x-python",
   "name": "python",
   "nbconvert_exporter": "python",
   "pygments_lexer": "ipython3",
   "version": "3.11.3"
  }
 },
 "nbformat": 4,
 "nbformat_minor": 5
}
