{
 "cells": [
  {
   "cell_type": "code",
   "execution_count": 1,
   "id": "270820d7",
   "metadata": {},
   "outputs": [
    {
     "name": "stdout",
     "output_type": "stream",
     "text": [
      "<class 'pandas.core.frame.DataFrame'>\n",
      "RangeIndex: 5751 entries, 0 to 5750\n",
      "Data columns (total 18 columns):\n",
      " #   Column                       Non-Null Count  Dtype  \n",
      "---  ------                       --------------  -----  \n",
      " 0   SLNO                         5751 non-null   int64  \n",
      " 1   Candidate Ref                5751 non-null   int64  \n",
      " 2   DOJ Extended                 5751 non-null   object \n",
      " 3   Duration to accept offer     5751 non-null   int64  \n",
      " 4   Notice period                5751 non-null   int64  \n",
      " 5   Offered band                 5751 non-null   object \n",
      " 6   Pecent hike expected in CTC  5751 non-null   float64\n",
      " 7   Percent hike offered in CTC  5751 non-null   float64\n",
      " 8   Percent difference CTC       5751 non-null   float64\n",
      " 9   Joining Bonus                5751 non-null   object \n",
      " 10  Candidate relocate actual    5751 non-null   object \n",
      " 11  Gender                       5751 non-null   object \n",
      " 12  Candidate Source             5751 non-null   object \n",
      " 13  Rex in Yrs                   5751 non-null   int64  \n",
      " 14  LOB                          5751 non-null   object \n",
      " 15  Location                     5751 non-null   object \n",
      " 16  Age                          5751 non-null   int64  \n",
      " 17  Status                       5751 non-null   int64  \n",
      "dtypes: float64(3), int64(7), object(8)\n",
      "memory usage: 808.9+ KB\n"
     ]
    }
   ],
   "source": [
    "import pandas as pd\n",
    "import numpy as np\n",
    "import statsmodels.api as sm\n",
    "import seaborn as sn\n",
    "from sklearn.model_selection import train_test_split\n",
    "import matplotlib.pyplot as plt\n",
    "df = pd.read_csv('hr_data_updated.csv')\n",
    "df.info()"
   ]
  },
  {
   "cell_type": "code",
   "execution_count": 2,
   "id": "cc468585",
   "metadata": {},
   "outputs": [
    {
     "name": "stdout",
     "output_type": "stream",
     "text": [
      "Warning: Maximum number of iterations has been exceeded.\n",
      "         Current function value: 0.487477\n",
      "         Iterations: 35\n"
     ]
    },
    {
     "name": "stderr",
     "output_type": "stream",
     "text": [
      "C:\\Users\\hp\\anaconda3\\Lib\\site-packages\\statsmodels\\base\\model.py:604: ConvergenceWarning: Maximum Likelihood optimization failed to converge. Check mle_retvals\n",
      "  warnings.warn(\"Maximum Likelihood optimization failed to \"\n"
     ]
    },
    {
     "data": {
      "text/html": [
       "<table class=\"simpletable\">\n",
       "<caption>Logit Regression Results</caption>\n",
       "<tr>\n",
       "  <th>Dep. Variable:</th>        <td>Status</td>      <th>  No. Observations:  </th>   <td>  4600</td>  \n",
       "</tr>\n",
       "<tr>\n",
       "  <th>Model:</th>                 <td>Logit</td>      <th>  Df Residuals:      </th>   <td>  4565</td>  \n",
       "</tr>\n",
       "<tr>\n",
       "  <th>Method:</th>                 <td>MLE</td>       <th>  Df Model:          </th>   <td>    34</td>  \n",
       "</tr>\n",
       "<tr>\n",
       "  <th>Date:</th>            <td>Mon, 23 Oct 2023</td> <th>  Pseudo R-squ.:     </th>   <td>0.1875</td>  \n",
       "</tr>\n",
       "<tr>\n",
       "  <th>Time:</th>                <td>11:38:03</td>     <th>  Log-Likelihood:    </th>  <td> -2242.4</td> \n",
       "</tr>\n",
       "<tr>\n",
       "  <th>converged:</th>             <td>False</td>      <th>  LL-Null:           </th>  <td> -2760.0</td> \n",
       "</tr>\n",
       "<tr>\n",
       "  <th>Covariance Type:</th>     <td>nonrobust</td>    <th>  LLR p-value:       </th> <td>2.138e-195</td>\n",
       "</tr>\n",
       "</table>\n",
       "<table class=\"simpletable\">\n",
       "<tr>\n",
       "                   <td></td>                     <th>coef</th>     <th>std err</th>      <th>z</th>      <th>P>|z|</th>  <th>[0.025</th>    <th>0.975]</th>  \n",
       "</tr>\n",
       "<tr>\n",
       "  <th>const</th>                              <td>   -5.1367</td> <td>    1.403</td> <td>   -3.662</td> <td> 0.000</td> <td>   -7.886</td> <td>   -2.388</td>\n",
       "</tr>\n",
       "<tr>\n",
       "  <th>Duration to accept offer</th>           <td>    0.0016</td> <td>    0.001</td> <td>    1.102</td> <td> 0.271</td> <td>   -0.001</td> <td>    0.005</td>\n",
       "</tr>\n",
       "<tr>\n",
       "  <th>Notice period</th>                      <td>   -0.0223</td> <td>    0.002</td> <td>  -12.419</td> <td> 0.000</td> <td>   -0.026</td> <td>   -0.019</td>\n",
       "</tr>\n",
       "<tr>\n",
       "  <th>Pecent hike expected in CTC</th>        <td>   -0.0121</td> <td>    0.007</td> <td>   -1.798</td> <td> 0.072</td> <td>   -0.025</td> <td>    0.001</td>\n",
       "</tr>\n",
       "<tr>\n",
       "  <th>Percent hike offered in CTC</th>        <td>    0.0136</td> <td>    0.007</td> <td>    1.935</td> <td> 0.053</td> <td>   -0.000</td> <td>    0.027</td>\n",
       "</tr>\n",
       "<tr>\n",
       "  <th>Percent difference CTC</th>             <td>   -0.0153</td> <td>    0.010</td> <td>   -1.543</td> <td> 0.123</td> <td>   -0.035</td> <td>    0.004</td>\n",
       "</tr>\n",
       "<tr>\n",
       "  <th>Rex in Yrs</th>                         <td>   -0.1229</td> <td>    0.025</td> <td>   -4.848</td> <td> 0.000</td> <td>   -0.173</td> <td>   -0.073</td>\n",
       "</tr>\n",
       "<tr>\n",
       "  <th>Age</th>                                <td>    0.0997</td> <td>    0.011</td> <td>    8.865</td> <td> 0.000</td> <td>    0.078</td> <td>    0.122</td>\n",
       "</tr>\n",
       "<tr>\n",
       "  <th>DOJ Extended_Yes</th>                   <td>    0.1203</td> <td>    0.079</td> <td>    1.518</td> <td> 0.129</td> <td>   -0.035</td> <td>    0.276</td>\n",
       "</tr>\n",
       "<tr>\n",
       "  <th>Offered band_E1</th>                    <td>    3.5417</td> <td>    0.494</td> <td>    7.176</td> <td> 0.000</td> <td>    2.574</td> <td>    4.509</td>\n",
       "</tr>\n",
       "<tr>\n",
       "  <th>Offered band_E2</th>                    <td>    3.3316</td> <td>    0.507</td> <td>    6.565</td> <td> 0.000</td> <td>    2.337</td> <td>    4.326</td>\n",
       "</tr>\n",
       "<tr>\n",
       "  <th>Offered band_E3</th>                    <td>    3.7420</td> <td>    0.558</td> <td>    6.711</td> <td> 0.000</td> <td>    2.649</td> <td>    4.835</td>\n",
       "</tr>\n",
       "<tr>\n",
       "  <th>Joining Bonus_Yes</th>                  <td>    0.2458</td> <td>    0.171</td> <td>    1.436</td> <td> 0.151</td> <td>   -0.090</td> <td>    0.581</td>\n",
       "</tr>\n",
       "<tr>\n",
       "  <th>Candidate relocate actual_Yes</th>      <td>   23.0099</td> <td> 5285.184</td> <td>    0.004</td> <td> 0.997</td> <td>-1.03e+04</td> <td> 1.04e+04</td>\n",
       "</tr>\n",
       "<tr>\n",
       "  <th>Gender_Male</th>                        <td>   -0.2185</td> <td>    0.100</td> <td>   -2.192</td> <td> 0.028</td> <td>   -0.414</td> <td>   -0.023</td>\n",
       "</tr>\n",
       "<tr>\n",
       "  <th>Candidate Source_Direct</th>            <td>    0.1416</td> <td>    0.084</td> <td>    1.682</td> <td> 0.093</td> <td>   -0.023</td> <td>    0.307</td>\n",
       "</tr>\n",
       "<tr>\n",
       "  <th>Candidate Source_Employee Referral</th> <td>    0.6644</td> <td>    0.120</td> <td>    5.533</td> <td> 0.000</td> <td>    0.429</td> <td>    0.900</td>\n",
       "</tr>\n",
       "<tr>\n",
       "  <th>LOB_BFSI</th>                           <td>    0.2517</td> <td>    0.175</td> <td>    1.435</td> <td> 0.151</td> <td>   -0.092</td> <td>    0.596</td>\n",
       "</tr>\n",
       "<tr>\n",
       "  <th>LOB_CSMP</th>                           <td>    0.1830</td> <td>    0.197</td> <td>    0.928</td> <td> 0.354</td> <td>   -0.204</td> <td>    0.570</td>\n",
       "</tr>\n",
       "<tr>\n",
       "  <th>LOB_EAS</th>                            <td>   -0.6060</td> <td>    0.230</td> <td>   -2.640</td> <td> 0.008</td> <td>   -1.056</td> <td>   -0.156</td>\n",
       "</tr>\n",
       "<tr>\n",
       "  <th>LOB_ERS</th>                            <td>   -0.1298</td> <td>    0.168</td> <td>   -0.772</td> <td> 0.440</td> <td>   -0.459</td> <td>    0.200</td>\n",
       "</tr>\n",
       "<tr>\n",
       "  <th>LOB_ETS</th>                            <td>    0.1828</td> <td>    0.196</td> <td>    0.934</td> <td> 0.350</td> <td>   -0.201</td> <td>    0.566</td>\n",
       "</tr>\n",
       "<tr>\n",
       "  <th>LOB_Healthcare</th>                     <td>    0.3825</td> <td>    0.325</td> <td>    1.179</td> <td> 0.239</td> <td>   -0.254</td> <td>    1.019</td>\n",
       "</tr>\n",
       "<tr>\n",
       "  <th>LOB_INFRA</th>                          <td>    0.3427</td> <td>    0.180</td> <td>    1.903</td> <td> 0.057</td> <td>   -0.010</td> <td>    0.696</td>\n",
       "</tr>\n",
       "<tr>\n",
       "  <th>LOB_MMS</th>                            <td>   10.8778</td> <td>  202.902</td> <td>    0.054</td> <td> 0.957</td> <td> -386.802</td> <td>  408.558</td>\n",
       "</tr>\n",
       "<tr>\n",
       "  <th>Location_Bangalore</th>                 <td>    0.4666</td> <td>    1.272</td> <td>    0.367</td> <td> 0.714</td> <td>   -2.027</td> <td>    2.960</td>\n",
       "</tr>\n",
       "<tr>\n",
       "  <th>Location_Chennai</th>                   <td>    0.5348</td> <td>    1.271</td> <td>    0.421</td> <td> 0.674</td> <td>   -1.956</td> <td>    3.026</td>\n",
       "</tr>\n",
       "<tr>\n",
       "  <th>Location_Cochin</th>                    <td>    0.5963</td> <td>    1.699</td> <td>    0.351</td> <td> 0.726</td> <td>   -2.735</td> <td>    3.927</td>\n",
       "</tr>\n",
       "<tr>\n",
       "  <th>Location_Gurgaon</th>                   <td>    0.2671</td> <td>    1.300</td> <td>    0.206</td> <td> 0.837</td> <td>   -2.280</td> <td>    2.815</td>\n",
       "</tr>\n",
       "<tr>\n",
       "  <th>Location_Hyderabad</th>                 <td>    0.7393</td> <td>    1.284</td> <td>    0.576</td> <td> 0.565</td> <td>   -1.777</td> <td>    3.255</td>\n",
       "</tr>\n",
       "<tr>\n",
       "  <th>Location_Kolkata</th>                   <td>    0.2771</td> <td>    1.305</td> <td>    0.212</td> <td> 0.832</td> <td>   -2.280</td> <td>    2.834</td>\n",
       "</tr>\n",
       "<tr>\n",
       "  <th>Location_Mumbai</th>                    <td>    0.9297</td> <td>    1.299</td> <td>    0.716</td> <td> 0.474</td> <td>   -1.616</td> <td>    3.475</td>\n",
       "</tr>\n",
       "<tr>\n",
       "  <th>Location_Noida</th>                     <td>    0.8006</td> <td>    1.270</td> <td>    0.630</td> <td> 0.528</td> <td>   -1.689</td> <td>    3.290</td>\n",
       "</tr>\n",
       "<tr>\n",
       "  <th>Location_Others</th>                    <td>   22.0804</td> <td> 8.43e+04</td> <td>    0.000</td> <td> 1.000</td> <td>-1.65e+05</td> <td> 1.65e+05</td>\n",
       "</tr>\n",
       "<tr>\n",
       "  <th>Location_Pune</th>                      <td>    0.9042</td> <td>    1.359</td> <td>    0.665</td> <td> 0.506</td> <td>   -1.759</td> <td>    3.567</td>\n",
       "</tr>\n",
       "</table><br/><br/>Possibly complete quasi-separation: A fraction 0.14 of observations can be<br/>perfectly predicted. This might indicate that there is complete<br/>quasi-separation. In this case some parameters will not be identified."
      ],
      "text/plain": [
       "<class 'statsmodels.iolib.summary.Summary'>\n",
       "\"\"\"\n",
       "                           Logit Regression Results                           \n",
       "==============================================================================\n",
       "Dep. Variable:                 Status   No. Observations:                 4600\n",
       "Model:                          Logit   Df Residuals:                     4565\n",
       "Method:                           MLE   Df Model:                           34\n",
       "Date:                Mon, 23 Oct 2023   Pseudo R-squ.:                  0.1875\n",
       "Time:                        11:38:03   Log-Likelihood:                -2242.4\n",
       "converged:                      False   LL-Null:                       -2760.0\n",
       "Covariance Type:            nonrobust   LLR p-value:                2.138e-195\n",
       "======================================================================================================\n",
       "                                         coef    std err          z      P>|z|      [0.025      0.975]\n",
       "------------------------------------------------------------------------------------------------------\n",
       "const                                 -5.1367      1.403     -3.662      0.000      -7.886      -2.388\n",
       "Duration to accept offer               0.0016      0.001      1.102      0.271      -0.001       0.005\n",
       "Notice period                         -0.0223      0.002    -12.419      0.000      -0.026      -0.019\n",
       "Pecent hike expected in CTC           -0.0121      0.007     -1.798      0.072      -0.025       0.001\n",
       "Percent hike offered in CTC            0.0136      0.007      1.935      0.053      -0.000       0.027\n",
       "Percent difference CTC                -0.0153      0.010     -1.543      0.123      -0.035       0.004\n",
       "Rex in Yrs                            -0.1229      0.025     -4.848      0.000      -0.173      -0.073\n",
       "Age                                    0.0997      0.011      8.865      0.000       0.078       0.122\n",
       "DOJ Extended_Yes                       0.1203      0.079      1.518      0.129      -0.035       0.276\n",
       "Offered band_E1                        3.5417      0.494      7.176      0.000       2.574       4.509\n",
       "Offered band_E2                        3.3316      0.507      6.565      0.000       2.337       4.326\n",
       "Offered band_E3                        3.7420      0.558      6.711      0.000       2.649       4.835\n",
       "Joining Bonus_Yes                      0.2458      0.171      1.436      0.151      -0.090       0.581\n",
       "Candidate relocate actual_Yes         23.0099   5285.184      0.004      0.997   -1.03e+04    1.04e+04\n",
       "Gender_Male                           -0.2185      0.100     -2.192      0.028      -0.414      -0.023\n",
       "Candidate Source_Direct                0.1416      0.084      1.682      0.093      -0.023       0.307\n",
       "Candidate Source_Employee Referral     0.6644      0.120      5.533      0.000       0.429       0.900\n",
       "LOB_BFSI                               0.2517      0.175      1.435      0.151      -0.092       0.596\n",
       "LOB_CSMP                               0.1830      0.197      0.928      0.354      -0.204       0.570\n",
       "LOB_EAS                               -0.6060      0.230     -2.640      0.008      -1.056      -0.156\n",
       "LOB_ERS                               -0.1298      0.168     -0.772      0.440      -0.459       0.200\n",
       "LOB_ETS                                0.1828      0.196      0.934      0.350      -0.201       0.566\n",
       "LOB_Healthcare                         0.3825      0.325      1.179      0.239      -0.254       1.019\n",
       "LOB_INFRA                              0.3427      0.180      1.903      0.057      -0.010       0.696\n",
       "LOB_MMS                               10.8778    202.902      0.054      0.957    -386.802     408.558\n",
       "Location_Bangalore                     0.4666      1.272      0.367      0.714      -2.027       2.960\n",
       "Location_Chennai                       0.5348      1.271      0.421      0.674      -1.956       3.026\n",
       "Location_Cochin                        0.5963      1.699      0.351      0.726      -2.735       3.927\n",
       "Location_Gurgaon                       0.2671      1.300      0.206      0.837      -2.280       2.815\n",
       "Location_Hyderabad                     0.7393      1.284      0.576      0.565      -1.777       3.255\n",
       "Location_Kolkata                       0.2771      1.305      0.212      0.832      -2.280       2.834\n",
       "Location_Mumbai                        0.9297      1.299      0.716      0.474      -1.616       3.475\n",
       "Location_Noida                         0.8006      1.270      0.630      0.528      -1.689       3.290\n",
       "Location_Others                       22.0804   8.43e+04      0.000      1.000   -1.65e+05    1.65e+05\n",
       "Location_Pune                          0.9042      1.359      0.665      0.506      -1.759       3.567\n",
       "======================================================================================================\n",
       "\n",
       "Possibly complete quasi-separation: A fraction 0.14 of observations can be\n",
       "perfectly predicted. This might indicate that there is complete\n",
       "quasi-separation. In this case some parameters will not be identified.\n",
       "\"\"\""
      ]
     },
     "execution_count": 2,
     "metadata": {},
     "output_type": "execute_result"
    }
   ],
   "source": [
    "# Q1. model for prediction\n",
    "X_features = df[['DOJ Extended', 'Duration to accept offer', 'Notice period', 'Offered band', 'Pecent hike expected in CTC', 'Percent hike offered in CTC', 'Percent difference CTC', 'Joining Bonus', 'Candidate relocate actual', 'Gender', 'Candidate Source', 'Rex in Yrs', 'LOB', 'Location', 'Age']]\n",
    "Y_features = df['Status']\n",
    "\n",
    "\n",
    "X = pd.get_dummies(X_features, drop_first=True)\n",
    "\n",
    "X = sm.add_constant(X)\n",
    "Y = Y_features\n",
    "\n",
    "train_X, test_X, train_Y, test_Y = train_test_split(X,Y,train_size=0.8, random_state=42) \n",
    "model_1 = sm.Logit(train_Y, train_X)\n",
    "model_1 = model_1.fit()\n",
    "model_1.summary()"
   ]
  },
  {
   "cell_type": "code",
   "execution_count": 3,
   "id": "d3bdbfb3",
   "metadata": {},
   "outputs": [
    {
     "name": "stdout",
     "output_type": "stream",
     "text": [
      "Optimization terminated successfully.\n",
      "         Current function value: 0.544072\n",
      "         Iterations 6\n"
     ]
    },
    {
     "data": {
      "text/html": [
       "<table class=\"simpletable\">\n",
       "<caption>Logit Regression Results</caption>\n",
       "<tr>\n",
       "  <th>Dep. Variable:</th>        <td>Status</td>      <th>  No. Observations:  </th>   <td>  4600</td>  \n",
       "</tr>\n",
       "<tr>\n",
       "  <th>Model:</th>                 <td>Logit</td>      <th>  Df Residuals:      </th>   <td>  4590</td>  \n",
       "</tr>\n",
       "<tr>\n",
       "  <th>Method:</th>                 <td>MLE</td>       <th>  Df Model:          </th>   <td>     9</td>  \n",
       "</tr>\n",
       "<tr>\n",
       "  <th>Date:</th>            <td>Mon, 23 Oct 2023</td> <th>  Pseudo R-squ.:     </th>   <td>0.09321</td> \n",
       "</tr>\n",
       "<tr>\n",
       "  <th>Time:</th>                <td>11:38:03</td>     <th>  Log-Likelihood:    </th>  <td> -2502.7</td> \n",
       "</tr>\n",
       "<tr>\n",
       "  <th>converged:</th>             <td>True</td>       <th>  LL-Null:           </th>  <td> -2760.0</td> \n",
       "</tr>\n",
       "<tr>\n",
       "  <th>Covariance Type:</th>     <td>nonrobust</td>    <th>  LLR p-value:       </th> <td>4.487e-105</td>\n",
       "</tr>\n",
       "</table>\n",
       "<table class=\"simpletable\">\n",
       "<tr>\n",
       "                   <td></td>                     <th>coef</th>     <th>std err</th>      <th>z</th>      <th>P>|z|</th>  <th>[0.025</th>    <th>0.975]</th>  \n",
       "</tr>\n",
       "<tr>\n",
       "  <th>const</th>                              <td>   -4.3591</td> <td>    0.565</td> <td>   -7.717</td> <td> 0.000</td> <td>   -5.466</td> <td>   -3.252</td>\n",
       "</tr>\n",
       "<tr>\n",
       "  <th>Notice period</th>                      <td>   -0.0209</td> <td>    0.002</td> <td>  -12.983</td> <td> 0.000</td> <td>   -0.024</td> <td>   -0.018</td>\n",
       "</tr>\n",
       "<tr>\n",
       "  <th>Rex in Yrs</th>                         <td>   -0.1623</td> <td>    0.022</td> <td>   -7.420</td> <td> 0.000</td> <td>   -0.205</td> <td>   -0.119</td>\n",
       "</tr>\n",
       "<tr>\n",
       "  <th>Age</th>                                <td>    0.1156</td> <td>    0.011</td> <td>   10.814</td> <td> 0.000</td> <td>    0.095</td> <td>    0.137</td>\n",
       "</tr>\n",
       "<tr>\n",
       "  <th>Offered band_E1</th>                    <td>    3.4685</td> <td>    0.495</td> <td>    7.005</td> <td> 0.000</td> <td>    2.498</td> <td>    4.439</td>\n",
       "</tr>\n",
       "<tr>\n",
       "  <th>Offered band_E2</th>                    <td>    3.4238</td> <td>    0.509</td> <td>    6.732</td> <td> 0.000</td> <td>    2.427</td> <td>    4.421</td>\n",
       "</tr>\n",
       "<tr>\n",
       "  <th>Offered band_E3</th>                    <td>    4.0517</td> <td>    0.548</td> <td>    7.395</td> <td> 0.000</td> <td>    2.978</td> <td>    5.126</td>\n",
       "</tr>\n",
       "<tr>\n",
       "  <th>Gender_Male</th>                        <td>   -0.1695</td> <td>    0.096</td> <td>   -1.763</td> <td> 0.078</td> <td>   -0.358</td> <td>    0.019</td>\n",
       "</tr>\n",
       "<tr>\n",
       "  <th>Candidate Source_Employee Referral</th> <td>    0.5410</td> <td>    0.104</td> <td>    5.200</td> <td> 0.000</td> <td>    0.337</td> <td>    0.745</td>\n",
       "</tr>\n",
       "<tr>\n",
       "  <th>LOB_EAS</th>                            <td>   -0.4229</td> <td>    0.160</td> <td>   -2.644</td> <td> 0.008</td> <td>   -0.736</td> <td>   -0.109</td>\n",
       "</tr>\n",
       "</table>"
      ],
      "text/plain": [
       "<class 'statsmodels.iolib.summary.Summary'>\n",
       "\"\"\"\n",
       "                           Logit Regression Results                           \n",
       "==============================================================================\n",
       "Dep. Variable:                 Status   No. Observations:                 4600\n",
       "Model:                          Logit   Df Residuals:                     4590\n",
       "Method:                           MLE   Df Model:                            9\n",
       "Date:                Mon, 23 Oct 2023   Pseudo R-squ.:                 0.09321\n",
       "Time:                        11:38:03   Log-Likelihood:                -2502.7\n",
       "converged:                       True   LL-Null:                       -2760.0\n",
       "Covariance Type:            nonrobust   LLR p-value:                4.487e-105\n",
       "======================================================================================================\n",
       "                                         coef    std err          z      P>|z|      [0.025      0.975]\n",
       "------------------------------------------------------------------------------------------------------\n",
       "const                                 -4.3591      0.565     -7.717      0.000      -5.466      -3.252\n",
       "Notice period                         -0.0209      0.002    -12.983      0.000      -0.024      -0.018\n",
       "Rex in Yrs                            -0.1623      0.022     -7.420      0.000      -0.205      -0.119\n",
       "Age                                    0.1156      0.011     10.814      0.000       0.095       0.137\n",
       "Offered band_E1                        3.4685      0.495      7.005      0.000       2.498       4.439\n",
       "Offered band_E2                        3.4238      0.509      6.732      0.000       2.427       4.421\n",
       "Offered band_E3                        4.0517      0.548      7.395      0.000       2.978       5.126\n",
       "Gender_Male                           -0.1695      0.096     -1.763      0.078      -0.358       0.019\n",
       "Candidate Source_Employee Referral     0.5410      0.104      5.200      0.000       0.337       0.745\n",
       "LOB_EAS                               -0.4229      0.160     -2.644      0.008      -0.736      -0.109\n",
       "======================================================================================================\n",
       "\"\"\""
      ]
     },
     "execution_count": 3,
     "metadata": {},
     "output_type": "execute_result"
    }
   ],
   "source": [
    "# Q.2 make the model using significant features only\n",
    "significant_features = model_1.pvalues[model_1.pvalues < 0.05].index\n",
    "train_X = train_X[significant_features]\n",
    "test_X = test_X[significant_features]\n",
    "model_2 = sm.Logit(train_Y, train_X).fit()\n",
    "model_2.summary()"
   ]
  },
  {
   "cell_type": "code",
   "execution_count": 4,
   "id": "07acb7cc",
   "metadata": {},
   "outputs": [
    {
     "name": "stdout",
     "output_type": "stream",
     "text": [
      "Features affecting positively are :  Index(['Age', 'Offered band_E1', 'Offered band_E2', 'Offered band_E3',\n",
      "       'Candidate Source_Employee Referral'],\n",
      "      dtype='object')\n",
      "Features affecting negatively are :  Index(['const', 'Notice period', 'Rex in Yrs', 'Gender_Male', 'LOB_EAS'], dtype='object')\n"
     ]
    }
   ],
   "source": [
    "#3. Find which features affect the probability positively and negatively\n",
    "positive_features = model_2.params[model_2.params > 0].index\n",
    "negative_features = model_2.params[model_2.params < 0].index\n",
    "\n",
    "print(\"Features affecting positively are : \", positive_features)\n",
    "print(\"Features affecting negatively are : \", negative_features)"
   ]
  },
  {
   "cell_type": "code",
   "execution_count": 5,
   "id": "661fb9ec",
   "metadata": {},
   "outputs": [
    {
     "name": "stdout",
     "output_type": "stream",
     "text": [
      "Youden index :  [0.027855153203342642, 0.027855153203342642, 0.027855153203342642, 0.026592526940716343, 0.026592526940716343, 0.026592526940716343, 0.026592526940716343, 0.026592526940716343, 0.026592526940716343, 0.026592526940716343, 0.026592526940716343, 0.029378042261050563, 0.029378042261050563, 0.029378042261050563, 0.029378042261050563, 0.029378042261050563, 0.029378042261050563, 0.028115415998424487, 0.033686446639092926, 0.036471961959427146, 0.036471961959427146, 0.03520933569680085, 0.03673222475450877, 0.03825511381221691, 0.036992487549590614, 0.044086407247967196, 0.052963478799133545, 0.05905503502996545, 0.06741158099096811, 0.0732428744267184, 0.07628865254213446, 0.08490546129821896, 0.09757041163726399, 0.10213907881038797, 0.11201851382909878, 0.11911243352747536, 0.1234208379055175, 0.13760867730227067, 0.1406544554176865, 0.14800863791114494, 0.1472665372386821, 0.1530978306744324, 0.15514124532230378, 0.157444922765257, 0.16557989364396053, 0.1635751667088714, 0.18411482513153832, 0.21148814045749975, 0.23986381925100586, 0.2500035170647983, 0.24952167918741752, 0.23641357868377355, 0.22909808390309783, 0.2552087729664332, 0.26107875411496595, 0.2641632199431643, 0.26041402886806786, 0.27111293998480623, 0.27171084100053466, 0.27253031709856224, 0.24509017754143114, 0.25122042148504553, 0.2672301004473705, 0.25824751695225245, 0.2578043667876537, 0.25335176275287696, 0.24785810753777326, 0.24210418952758794, 0.2401381503052813, 0.2209771812835879, 0.21901114206128147, 0.1943178301117019, 0.18120972960805837, 0.185556821698883, 0.1540298528460089, 0.1444493683351622, 0.11221898652260753, 0.10137587574913476, 0.08447989645761234, 0.061531048648040265, 0.056740806392616916]\n",
      "\n",
      "\n",
      "optimal cutoff value is :  0.6899999999999997\n",
      "max youden value at optimal cutoff 0.27253031709856224\n"
     ]
    }
   ],
   "source": [
    "# Youden's index for all possible cut-off probabilites\n",
    "from sklearn import metrics\n",
    "cutoff = np.arange(0.1, 0.91, 0.01)\n",
    "youdens_index = []\n",
    "cutoff_index = []\n",
    "for i in cutoff:\n",
    "    predicted_values = model_2.predict(test_X)\n",
    "    predicted_values = (predicted_values > i).astype(int)\n",
    "    confusion_matrix = metrics.confusion_matrix(test_Y, predicted_values)\n",
    "    sensitivity = confusion_matrix[1][1]/(confusion_matrix[1][1] + confusion_matrix[1][0])\n",
    "    specificity = confusion_matrix[0][0]/(confusion_matrix[0][0] + confusion_matrix[0][1])\n",
    "    youden_index = sensitivity + specificity - 1\n",
    "    youdens_index.append(youden_index)\n",
    "    cutoff_index.append(i)\n",
    "\n",
    "print(\"Youden index : \", youdens_index)\n",
    "max_youden = -40\n",
    "optimal_cutoff = -1\n",
    "for i in range(0, len(youdens_index)):\n",
    "    if(youdens_index[i] > max_youden) :\n",
    "        max_youden = youdens_index[i]\n",
    "        optimal_cutoff = cutoff_index[i]\n",
    "\n",
    "print(\"\\n\\noptimal cutoff value is : \", optimal_cutoff)\n",
    "print(\"max youden value at optimal cutoff\", max_youden)"
   ]
  },
  {
   "cell_type": "code",
   "execution_count": 10,
   "id": "c2b7dc85",
   "metadata": {},
   "outputs": [
    {
     "data": {
      "image/png": "[encoded data removed]",
      "text/plain": [
       "<Figure size 640x480 with 2 Axes>"
      ]
     },
     "metadata": {},
     "output_type": "display_data"
    },
    {
     "name": "stdout",
     "output_type": "stream",
     "text": [
      "\n",
      "\n",
      "Precision of model is :  0.4666666666666667\n",
      "\n",
      "Recall of model is :  0.5654596100278552\n",
      "              precision    recall  f1-score   support\n",
      "\n",
      "           0       0.47      0.57      0.51       359\n",
      "           1       0.78      0.71      0.74       792\n",
      "\n",
      "    accuracy                           0.66      1151\n",
      "   macro avg       0.62      0.64      0.63      1151\n",
      "weighted avg       0.68      0.66      0.67      1151\n",
      "\n"
     ]
    }
   ],
   "source": [
    "predicted_values = model_2.predict(test_X)\n",
    "predicted_values = (predicted_values > optimal_cutoff).astype(int)\n",
    "confusion_matrix = metrics.confusion_matrix(test_Y, predicted_values)\n",
    "sn.heatmap(confusion_matrix, annot=True, fmt='.2f', xticklabels=[\"Selected\", \"Not Selected\"], yticklabels=[\"Selected\", \"Not Selected\"])\n",
    "plt.ylabel('True Label')\n",
    "plt.xlabel('Predicted Label')\n",
    "plt.show()\n",
    "\n",
    "precision = confusion_matrix[0][0]/(confusion_matrix[0][0] + confusion_matrix[1][0])\n",
    "recall = confusion_matrix[0][0]/(confusion_matrix[0][0] + confusion_matrix[0][1])\n",
    "\n",
    "print(\"\\n\\nPrecision of model is : \", precision)\n",
    "print(\"\\nRecall of model is : \", recall)\n",
    "from sklearn import metrics\n",
    "# Analysing using model summary\n",
    "print( metrics.classification_report( test_Y, predicted_values ) )"
   ]
  },
  {
   "cell_type": "code",
   "execution_count": 7,
   "id": "68e5259e",
   "metadata": {},
   "outputs": [
    {
     "name": "stdout",
     "output_type": "stream",
     "text": [
      "\n",
      "Optimal cutoff is :  0.8299999999999996\n"
     ]
    }
   ],
   "source": [
    "# Predicting the cutoff by assuming cost of predicting job as no job 5 times more than no job as job\n",
    "cost_based_values = []\n",
    "cost_based_cutoff_indices = []\n",
    "for i in cutoff:\n",
    "    predicted_values = model_2.predict(test_X)\n",
    "    predicted_values = (predicted_values > i).astype(int)\n",
    "    confusion_matrix = metrics.confusion_matrix(test_Y, predicted_values)\n",
    "    cost = 5*confusion_matrix[0][1] + confusion_matrix[1][0]\n",
    "    cost_based_values.append(cost)\n",
    "    cost_based_cutoff_indices.append(i)\n",
    "    \n",
    "optimal_cutoff_cost = -1\n",
    "min_cost = 1e9\n",
    "\n",
    "for i in range(0, len(cost_based_cutoff_indices)):\n",
    "    if(cost_based_values[i] < min_cost) :\n",
    "        min_cost = cost_based_values[i]\n",
    "        optimal_cutoff_cost = cost_based_cutoff_indices[i]\n",
    "\n",
    "print(\"\\nOptimal cutoff is : \", optimal_cutoff_cost)"
   ]
  },
  {
   "cell_type": "code",
   "execution_count": 8,
   "id": "6fb33505",
   "metadata": {},
   "outputs": [
    {
     "data": {
      "image/png": "[encoded data removed]",
      "text/plain": [
       "<Figure size 640x480 with 2 Axes>"
      ]
     },
     "metadata": {},
     "output_type": "display_data"
    },
    {
     "name": "stdout",
     "output_type": "stream",
     "text": [
      "\n",
      "\n",
      "Precision of model is :  0.3640500568828214\n",
      "\n",
      "Recall of model is :  0.8913649025069638\n"
     ]
    }
   ],
   "source": [
    "# Finding the precision and recall for cost based method\n",
    "predicted_values = model_2.predict(test_X)\n",
    "predicted_values = (predicted_values > optimal_cutoff_cost).astype(int)\n",
    "confusion_matrix = metrics.confusion_matrix(test_Y, predicted_values)\n",
    "sn.heatmap(confusion_matrix, annot=True, fmt='.2f', xticklabels=[\"Selected\", \"Not Selected\"], yticklabels=[\"Selected\", \"Not Selected\"])\n",
    "plt.ylabel('True Label')\n",
    "plt.xlabel('Predicted Label')\n",
    "plt.show()\n",
    "\n",
    "precision = confusion_matrix[0][0]/(confusion_matrix[0][0] + confusion_matrix[1][0])\n",
    "recall = confusion_matrix[0][0]/(confusion_matrix[0][0] + confusion_matrix[0][1])\n",
    "\n",
    "print(\"\\n\\nPrecision of model is : \", precision)\n",
    "print(\"\\nRecall of model is : \", recall)"
   ]
  },
  {
   "cell_type": "code",
   "execution_count": 11,
   "id": "4fbcc94c",
   "metadata": {},
   "outputs": [
    {
     "ename": "NameError",
     "evalue": "name 'predicted_values_1' is not defined",
     "output_type": "error",
     "traceback": [
      "\u001b[1;31m---------------------------------------------------------------------------\u001b[0m",
      "\u001b[1;31mNameError\u001b[0m                                 Traceback (most recent call last)",
      "Cell \u001b[1;32mIn[11], line 3\u001b[0m\n\u001b[0;32m      1\u001b[0m \u001b[38;5;28;01mfrom\u001b[39;00m \u001b[38;5;21;01msklearn\u001b[39;00m \u001b[38;5;28;01mimport\u001b[39;00m metrics\n\u001b[0;32m      2\u001b[0m \u001b[38;5;66;03m# Analysing using model summary\u001b[39;00m\n\u001b[1;32m----> 3\u001b[0m \u001b[38;5;28mprint\u001b[39m( metrics\u001b[38;5;241m.\u001b[39mclassification_report( test_Y, predicted_values_1 ) )\n",
      "\u001b[1;31mNameError\u001b[0m: name 'predicted_values_1' is not defined"
     ]
    }
   ],
   "source": [
    "from sklearn import metrics\n",
    "# Analysing using model summary\n",
    "print( metrics.classification_report( test_Y, predicted_values ) )"
   ]
  },
  {
   "cell_type": "code",
   "execution_count": null,
   "id": "9ebe4ccf",
   "metadata": {},
   "outputs": [],
   "source": []
  }
 ],
 "metadata": {
  "kernelspec": {
   "display_name": "Python 3 (ipykernel)",
   "language": "python",
   "name": "python3"
  },
  "language_info": {
   "codemirror_mode": {
    "name": "ipython",
    "version": 3
   },
   "file_extension": ".py",
   "mimetype": "text/x-python",
   "name": "python",
   "nbconvert_exporter": "python",
   "pygments_lexer": "ipython3",
   "version": "3.11.3"
  }
 },
 "nbformat": 4,
 "nbformat_minor": 5
}
