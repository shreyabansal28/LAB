{
 "cells": [
  {
   "cell_type": "code",
   "execution_count": 1,
   "id": "99224c78",
   "metadata": {},
   "outputs": [
    {
     "name": "stdout",
     "output_type": "stream",
     "text": [
      "<class 'pandas.core.frame.DataFrame'>\n",
      "RangeIndex: 149 entries, 0 to 148\n",
      "Data columns (total 10 columns):\n",
      " #   Column               Non-Null Count  Dtype  \n",
      "---  ------               --------------  -----  \n",
      " 0   SlNo                 149 non-null    int64  \n",
      " 1   Release Date         149 non-null    object \n",
      " 2   MovieName            149 non-null    object \n",
      " 3   ReleaseTime          149 non-null    object \n",
      " 4   Genre                149 non-null    object \n",
      " 5   Budget               149 non-null    int64  \n",
      " 6   BoxOfficeCollection  149 non-null    float64\n",
      " 7   YoutubeViews         149 non-null    int64  \n",
      " 8   YoutubeLikes         149 non-null    int64  \n",
      " 9   YoutubeDislikes      149 non-null    int64  \n",
      "dtypes: float64(1), int64(5), object(4)\n",
      "memory usage: 11.8+ KB\n"
     ]
    }
   ],
   "source": [
    "import pandas as pd\n",
    "bollywood_data_set = pd.read_csv('bollywood.csv')\n",
    "bollywood_data_set.info()"
   ]
  },
  {
   "cell_type": "code",
   "execution_count": 12,
   "id": "45ecf0de",
   "metadata": {},
   "outputs": [
    {
     "name": "stdout",
     "output_type": "stream",
     "text": [
      "Top 10 movies with maximum rate of return is : \n",
      " 64                    Aashiqui 2\n",
      "89                            PK\n",
      "132                  Grand Masti\n",
      "135                 The Lunchbox\n",
      "87                        Fukrey\n",
      "58                      Mary Kom\n",
      "128                       Shahid\n",
      "37     Humpty Sharma Ki Dulhania\n",
      "101           Bhaag Milkha Bhaag\n",
      "115              Chennai Express\n",
      "Name: MovieName, dtype: object\n"
     ]
    }
   ],
   "source": [
    "roi = []\n",
    "for i in range(0, len(bollywood_data_set)):\n",
    "    data_set = bollywood_data_set.iloc[i]\n",
    "    rate = (data_set['BoxOfficeCollection'] - data_set['Budget'])/data_set['Budget']\n",
    "#     print(\"roi is : \", roi)\n",
    "    roi.append(rate)\n",
    "bollywood_data_set['Rate of return'] = roi\n",
    "top_movies = bollywood_data_set.sort_values(by='Rate of return', ascending=False).head(10)\n",
    "print(\"Top 10 movies with maximum rate of return is : \\n\", top_movies[\"MovieName\"])"
   ]
  },
  {
   "cell_type": "code",
   "execution_count": null,
   "id": "14f5198e",
   "metadata": {},
   "outputs": [],
   "source": []
  }
 ],
 "metadata": {
  "kernelspec": {
   "display_name": "Python 3 (ipykernel)",
   "language": "python",
   "name": "python3"
  },
  "language_info": {
   "codemirror_mode": {
    "name": "ipython",
    "version": 3
   },
   "file_extension": ".py",
   "mimetype": "text/x-python",
   "name": "python",
   "nbconvert_exporter": "python",
   "pygments_lexer": "ipython3",
   "version": "3.11.3"
  }
 },
 "nbformat": 4,
 "nbformat_minor": 5
}
