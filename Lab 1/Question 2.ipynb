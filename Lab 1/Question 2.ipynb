{
 "cells": [
  {
   "cell_type": "code",
   "execution_count": 6,
   "id": "308cc9d9",
   "metadata": {},
   "outputs": [
    {
     "name": "stdout",
     "output_type": "stream",
     "text": [
      "<class 'pandas.core.frame.DataFrame'>\n",
      "RangeIndex: 149 entries, 0 to 148\n",
      "Data columns (total 10 columns):\n",
      " #   Column               Non-Null Count  Dtype  \n",
      "---  ------               --------------  -----  \n",
      " 0   SlNo                 149 non-null    int64  \n",
      " 1   Release Date         149 non-null    object \n",
      " 2   MovieName            149 non-null    object \n",
      " 3   ReleaseTime          149 non-null    object \n",
      " 4   Genre                149 non-null    object \n",
      " 5   Budget               149 non-null    int64  \n",
      " 6   BoxOfficeCollection  149 non-null    float64\n",
      " 7   YoutubeViews         149 non-null    int64  \n",
      " 8   YoutubeLikes         149 non-null    int64  \n",
      " 9   YoutubeDislikes      149 non-null    int64  \n",
      "dtypes: float64(1), int64(5), object(4)\n",
      "memory usage: 11.8+ KB\n"
     ]
    }
   ],
   "source": [
    "import pandas as pd\n",
    "bollywood_data_set = pd.read_csv('bollywood.csv')\n",
    "bollywood_data_set.info()"
   ]
  },
  {
   "cell_type": "code",
   "execution_count": 18,
   "id": "468cc24e",
   "metadata": {},
   "outputs": [
    {
     "name": "stdout",
     "output_type": "stream",
     "text": [
      "Movies in each genre are : \n",
      " Comedy       36\n",
      " Drama       35\n",
      "Thriller     26\n",
      "Romance      25\n",
      "Action       21\n",
      "Thriller      3\n",
      "Action        3\n",
      "Name: Genre, dtype: int64\n"
     ]
    }
   ],
   "source": [
    "#movies got released in each genre\n",
    "bollywood_data_set_genre = bollywood_data_set.Genre.value_counts()\n",
    "print(\"Movies in each genre are : \\n\", bollywood_data_set_genre)"
   ]
  },
  {
   "cell_type": "code",
   "execution_count": 19,
   "id": "aa134d01",
   "metadata": {},
   "outputs": [
    {
     "name": "stdout",
     "output_type": "stream",
     "text": [
      "Genre with largest release : \n",
      " Comedy    36\n",
      "Name: Genre, dtype: int64\n"
     ]
    }
   ],
   "source": [
    "#Genre having the largest number of releases\n",
    "print(\"Genre with largest release : \\n\", bollywood_data_set_genre.head(1))"
   ]
  },
  {
   "cell_type": "code",
   "execution_count": 25,
   "id": "65747cdb",
   "metadata": {},
   "outputs": [
    {
     "name": "stdout",
     "output_type": "stream",
     "text": [
      "Genre sorted in desc order : \n",
      " Comedy       36\n",
      " Drama       35\n",
      "Thriller     26\n",
      "Romance      25\n",
      "Action       21\n",
      "Thriller      3\n",
      "Action        3\n",
      "Name: Genre, dtype: int64\n"
     ]
    }
   ],
   "source": [
    "#Sort the number of releases in each genre in descending order\n",
    "desc_sorted_genre =bollywood_data_set_genre.sort_values(ascending=False) \n",
    "print(\"Genre sorted in desc order : \\n\",desc_sorted_genre)"
   ]
  },
  {
   "cell_type": "code",
   "execution_count": null,
   "id": "d1520c66",
   "metadata": {},
   "outputs": [],
   "source": []
  }
 ],
 "metadata": {
  "kernelspec": {
   "display_name": "Python 3 (ipykernel)",
   "language": "python",
   "name": "python3"
  },
  "language_info": {
   "codemirror_mode": {
    "name": "ipython",
    "version": 3
   },
   "file_extension": ".py",
   "mimetype": "text/x-python",
   "name": "python",
   "nbconvert_exporter": "python",
   "pygments_lexer": "ipython3",
   "version": "3.11.3"
  }
 },
 "nbformat": 4,
 "nbformat_minor": 5
}
