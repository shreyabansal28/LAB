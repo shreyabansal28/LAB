{
 "cells": [
  {
   "cell_type": "code",
   "execution_count": 1,
   "id": "ac694e06",
   "metadata": {},
   "outputs": [
    {
     "name": "stdout",
     "output_type": "stream",
     "text": [
      "<class 'pandas.core.frame.DataFrame'>\n",
      "RangeIndex: 149 entries, 0 to 148\n",
      "Data columns (total 10 columns):\n",
      " #   Column               Non-Null Count  Dtype  \n",
      "---  ------               --------------  -----  \n",
      " 0   SlNo                 149 non-null    int64  \n",
      " 1   Release Date         149 non-null    object \n",
      " 2   MovieName            149 non-null    object \n",
      " 3   ReleaseTime          149 non-null    object \n",
      " 4   Genre                149 non-null    object \n",
      " 5   Budget               149 non-null    int64  \n",
      " 6   BoxOfficeCollection  149 non-null    float64\n",
      " 7   YoutubeViews         149 non-null    int64  \n",
      " 8   YoutubeLikes         149 non-null    int64  \n",
      " 9   YoutubeDislikes      149 non-null    int64  \n",
      "dtypes: float64(1), int64(5), object(4)\n",
      "memory usage: 11.8+ KB\n"
     ]
    }
   ],
   "source": [
    "import pandas as pd\n",
    "bollywood_data_set = pd.read_csv('bollywood.csv')\n",
    "bollywood_data_set.info()"
   ]
  },
  {
   "cell_type": "code",
   "execution_count": 7,
   "id": "84efea86",
   "metadata": {},
   "outputs": [
    {
     "name": "stdout",
     "output_type": "stream",
     "text": [
      "Moth with most movie releases is : \n",
      " month\n",
      "Feb    9\n",
      "dtype: int64\n"
     ]
    }
   ],
   "source": [
    "bollywood_data_set[\"idx\"] = bollywood_data_set['Release Date'].str.find('-')\n",
    "\n",
    "monthData = []\n",
    "for i in range(0, len(bollywood_data_set)) :\n",
    "    tempIdx = bollywood_data_set.iloc[i].idx + 1\n",
    "    monthData.append(bollywood_data_set.loc[i]['Release Date'][tempIdx:tempIdx + 3])\n",
    "    \n",
    "bollywood_data_set[\"month\"] = monthData\n",
    "high_budget_data_set = bollywood_data_set.query('Budget >= 25')\n",
    "\n",
    "group_high_budget_data_set = high_budget_data_set.groupby(\"month\")\n",
    "\n",
    "month_with_most_release = group_high_budget_data_set.size().sort_values(ascending=False).head(1)\n",
    "print(\"Moth with most movie releases is : \\n\", month_with_most_release)"
   ]
  },
  {
   "cell_type": "code",
   "execution_count": null,
   "id": "c5972249",
   "metadata": {},
   "outputs": [],
   "source": []
  }
 ],
 "metadata": {
  "kernelspec": {
   "display_name": "Python 3 (ipykernel)",
   "language": "python",
   "name": "python3"
  },
  "language_info": {
   "codemirror_mode": {
    "name": "ipython",
    "version": 3
   },
   "file_extension": ".py",
   "mimetype": "text/x-python",
   "name": "python",
   "nbconvert_exporter": "python",
   "pygments_lexer": "ipython3",
   "version": "3.11.3"
  }
 },
 "nbformat": 4,
 "nbformat_minor": 5
}
