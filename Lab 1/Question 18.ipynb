{
 "cells": [
  {
   "cell_type": "code",
   "execution_count": 2,
   "id": "68480cb5",
   "metadata": {},
   "outputs": [
    {
     "name": "stdout",
     "output_type": "stream",
     "text": [
      "<class 'pandas.core.frame.DataFrame'>\n",
      "RangeIndex: 462 entries, 0 to 461\n",
      "Data columns (total 11 columns):\n",
      " #   Column     Non-Null Count  Dtype  \n",
      "---  ------     --------------  -----  \n",
      " 0   row.names  462 non-null    int64  \n",
      " 1   sbp        462 non-null    int64  \n",
      " 2   tobacco    462 non-null    float64\n",
      " 3   ldl        462 non-null    float64\n",
      " 4   adiposity  462 non-null    float64\n",
      " 5   famhist    462 non-null    object \n",
      " 6   typea      462 non-null    int64  \n",
      " 7   obesity    462 non-null    float64\n",
      " 8   alcohol    462 non-null    float64\n",
      " 9   age        462 non-null    int64  \n",
      " 10  chd        462 non-null    int64  \n",
      "dtypes: float64(5), int64(5), object(1)\n",
      "memory usage: 39.8+ KB\n"
     ]
    }
   ],
   "source": [
    "import pandas as pd\n",
    "heart_db = pd.read_csv('SAheart.data')\n",
    "heart_db.info()"
   ]
  },
  {
   "cell_type": "code",
   "execution_count": 5,
   "id": "267d9a07",
   "metadata": {},
   "outputs": [
    {
     "name": "stdout",
     "output_type": "stream",
     "text": [
      "   row.names  sbp  tobacco   ldl  adiposity  famhist  typea  obesity  alcohol  \\\n",
      "0          1  160    12.00  5.73      23.11  Present     49    25.30    97.20   \n",
      "1          2  144     0.01  4.41      28.61   Absent     55    28.87     2.06   \n",
      "2          3  118     0.08  3.48      32.28  Present     52    29.14     3.81   \n",
      "3          4  170     7.50  6.41      38.03  Present     51    31.99    24.26   \n",
      "4          5  134    13.60  3.50      27.78  Present     60    25.99    57.34   \n",
      "\n",
      "   age  chd agegroup  \n",
      "0   52    1      mid  \n",
      "1   63    1      old  \n",
      "2   46    0      mid  \n",
      "3   58    1      old  \n",
      "4   49    1      mid  \n"
     ]
    }
   ],
   "source": [
    "# Define a function to categorize age ranges\n",
    "def categorize_age(age):\n",
    "    if age <= 15:\n",
    "        return \"young\"\n",
    "    elif age <= 35:\n",
    "        return \"adults\"\n",
    "    elif age <= 55:\n",
    "        return \"mid\"\n",
    "    else:\n",
    "        return \"old\"\n",
    "\n",
    "# Apply the function to create the new \"agegroup\" column\n",
    "heart_db[\"agegroup\"] = heart_db[\"age\"].apply(categorize_age)\n",
    "\n",
    "# Display the first few rows of the DataFrame with the new column\n",
    "print(heart_db.head())"
   ]
  },
  {
   "cell_type": "code",
   "execution_count": null,
   "id": "6059dd33",
   "metadata": {},
   "outputs": [],
   "source": []
  }
 ],
 "metadata": {
  "kernelspec": {
   "display_name": "Python 3 (ipykernel)",
   "language": "python",
   "name": "python3"
  },
  "language_info": {
   "codemirror_mode": {
    "name": "ipython",
    "version": 3
   },
   "file_extension": ".py",
   "mimetype": "text/x-python",
   "name": "python",
   "nbconvert_exporter": "python",
   "pygments_lexer": "ipython3",
   "version": "3.11.3"
  }
 },
 "nbformat": 4,
 "nbformat_minor": 5
}
