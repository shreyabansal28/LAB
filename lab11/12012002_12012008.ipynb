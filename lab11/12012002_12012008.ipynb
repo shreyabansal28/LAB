{
 "cells": [
  {
   "cell_type": "code",
   "execution_count": 1,
   "id": "a7383601",
   "metadata": {},
   "outputs": [
    {
     "name": "stdout",
     "output_type": "stream",
     "text": [
      "<class 'pandas.core.frame.DataFrame'>\n",
      "RangeIndex: 8995 entries, 0 to 8994\n",
      "Data columns (total 18 columns):\n",
      " #   Column                       Non-Null Count  Dtype  \n",
      "---  ------                       --------------  -----  \n",
      " 0   SLNO                         8995 non-null   int64  \n",
      " 1   Candidate Ref                8995 non-null   int64  \n",
      " 2   DOJ Extended                 8995 non-null   object \n",
      " 3   Duration to accept offer     8995 non-null   int64  \n",
      " 4   Notice period                8995 non-null   int64  \n",
      " 5   Offered band                 8995 non-null   object \n",
      " 6   Pecent hike expected in CTC  8995 non-null   float64\n",
      " 7   Percent hike offered in CTC  8995 non-null   float64\n",
      " 8   Percent difference CTC       8995 non-null   float64\n",
      " 9   Joining Bonus                8995 non-null   object \n",
      " 10  Candidate relocate actual    8995 non-null   object \n",
      " 11  Gender                       8995 non-null   object \n",
      " 12  Candidate Source             8995 non-null   object \n",
      " 13  Rex in Yrs                   8995 non-null   int64  \n",
      " 14  LOB                          8995 non-null   object \n",
      " 15  Location                     8995 non-null   object \n",
      " 16  Age                          8995 non-null   int64  \n",
      " 17  Status                       8995 non-null   object \n",
      "dtypes: float64(3), int64(6), object(9)\n",
      "memory usage: 1.2+ MB\n"
     ]
    }
   ],
   "source": [
    "import pandas as pd\n",
    "import numpy as np\n",
    "import statsmodels.api as sm\n",
    "import seaborn as sn\n",
    "from sklearn.model_selection import train_test_split\n",
    "from sklearn.utils import resample\n",
    "import matplotlib.pyplot as plt\n",
    "df = pd.read_csv('hr_data.csv')\n",
    "df.info()"
   ]
  },
  {
   "cell_type": "code",
   "execution_count": 2,
   "id": "9c911cf9",
   "metadata": {},
   "outputs": [
    {
     "name": "stdout",
     "output_type": "stream",
     "text": [
      "percentage of people who joined :  81.30072262367982\n",
      "percentage of people who not joined :  18.69927737632018\n"
     ]
    }
   ],
   "source": [
    "from sklearn.utils import shuffle\n",
    "joined_counts = df['Status'].value_counts()['Joined'];\n",
    "not_joined_counts = df['Status'].value_counts()['Not Joined'];\n",
    "joined_precentage = (joined_counts)/(joined_counts + not_joined_counts)\n",
    "not_joined_percentage = 1 - joined_precentage\n",
    "\n",
    "print(\"percentage of people who joined : \", 100*joined_precentage)\n",
    "print(\"percentage of people who not joined : \", 100*not_joined_percentage)\n",
    "\n",
    "\n",
    "#1. Upsampling the dataset as not joined are less than 33%\n",
    "joined = df[df.Status == 'Joined']\n",
    "not_joined = df[df.Status == 'Not Joined']\n",
    "\n",
    "# Upsampling the Not joined cases\n",
    "upsampled_not_joined = resample(not_joined, replace = True, n_samples = 4000)\n",
    "\n",
    "# Combining the upsampled\n",
    "dfs = [joined, upsampled_not_joined]\n",
    "new_df = pd.concat(dfs)\n",
    "new_df = shuffle(new_df)"
   ]
  },
  {
   "cell_type": "code",
   "execution_count": 3,
   "id": "9a5c9c1d",
   "metadata": {},
   "outputs": [],
   "source": [
    "from sklearn import metrics\n",
    "def draw_roc_curve( model, test_X, test_y ):\n",
    "    test_results_df = pd.DataFrame( { 'actual': test_y } )\n",
    "    test_results_df = test_results_df.reset_index()\n",
    "    # predict the probabilities on the test set\n",
    "    predict_proba_df = pd.DataFrame( model.predict_proba( test_X ) )\n",
    "    ## selecting the probabilities that the test example belongs\n",
    "    ## to class 1\n",
    "    test_results_df['chd_1'] = predict_proba_df.iloc[:,1:2]\n",
    "    ## Invoke roc_curve() to return fpr, tpr and threshold values.\n",
    "    ## Threshold values contain values from 0.0 to 1.0\n",
    "    fpr, tpr, thresholds = metrics.roc_curve( test_results_df.actual,\n",
    "    test_results_df.chd_1,\n",
    "    drop_intermediate = False )\n",
    "    ## Getting roc auc score by invoking metrics.roc_auc_score method\n",
    "    auc_score = metrics.roc_auc_score( test_results_df.actual,\n",
    "    test_results_df.chd_1 )\n",
    "    ## Setting the size of the plot\n",
    "    plt.figure(figsize=(8, 6))\n",
    "    ## Plotting the actual fpr and tpr values\n",
    "    plt.plot(fpr, tpr, label = 'ROC curve (area = %0.2f)' % auc_score)\n",
    "    ## Plotting th diagnoal line from (0,1)\n",
    "    plt.plot([0, 1], [0, 1], 'k--')\n",
    "    plt.xlim([0.0, 1.0])\n",
    "    plt.ylim([0.0, 1.05])\n",
    "    ## Setting labels and titles\n",
    "    plt.xlabel('False Positive Rate or [1 - True Negative Rate]')\n",
    "\n",
    "def draw_cm( actual, predicted ):\n",
    "    confusion_matrix = metrics.confusion_matrix(actual, predicted)\n",
    "    sn.heatmap(confusion_matrix, annot=True, fmt='.2f', xticklabels=[\"Joined\", \"Not Joined\"], yticklabels=[\"Joined\", \"Not Joined\"])\n",
    "    plt.ylabel('True Label')\n",
    "    plt.xlabel('Predicted Label')\n",
    "    plt.show()\n",
    "    \n"
   ]
  },
  {
   "cell_type": "code",
   "execution_count": 4,
   "id": "b67b014a",
   "metadata": {},
   "outputs": [
    {
     "data": {
      "text/html": [
       "<style>#sk-container-id-1 {color: black;background-color: white;}#sk-container-id-1 pre{padding: 0;}#sk-container-id-1 div.sk-toggleable {background-color: white;}#sk-container-id-1 label.sk-toggleable__label {cursor: pointer;display: block;width: 100%;margin-bottom: 0;padding: 0.3em;box-sizing: border-box;text-align: center;}#sk-container-id-1 label.sk-toggleable__label-arrow:before {content: \"▸\";float: left;margin-right: 0.25em;color: #696969;}#sk-container-id-1 label.sk-toggleable__label-arrow:hover:before {color: black;}#sk-container-id-1 div.sk-estimator:hover label.sk-toggleable__label-arrow:before {color: black;}#sk-container-id-1 div.sk-toggleable__content {max-height: 0;max-width: 0;overflow: hidden;text-align: left;background-color: #f0f8ff;}#sk-container-id-1 div.sk-toggleable__content pre {margin: 0.2em;color: black;border-radius: 0.25em;background-color: #f0f8ff;}#sk-container-id-1 input.sk-toggleable__control:checked~div.sk-toggleable__content {max-height: 200px;max-width: 100%;overflow: auto;}#sk-container-id-1 input.sk-toggleable__control:checked~label.sk-toggleable__label-arrow:before {content: \"▾\";}#sk-container-id-1 div.sk-estimator input.sk-toggleable__control:checked~label.sk-toggleable__label {background-color: #d4ebff;}#sk-container-id-1 div.sk-label input.sk-toggleable__control:checked~label.sk-toggleable__label {background-color: #d4ebff;}#sk-container-id-1 input.sk-hidden--visually {border: 0;clip: rect(1px 1px 1px 1px);clip: rect(1px, 1px, 1px, 1px);height: 1px;margin: -1px;overflow: hidden;padding: 0;position: absolute;width: 1px;}#sk-container-id-1 div.sk-estimator {font-family: monospace;background-color: #f0f8ff;border: 1px dotted black;border-radius: 0.25em;box-sizing: border-box;margin-bottom: 0.5em;}#sk-container-id-1 div.sk-estimator:hover {background-color: #d4ebff;}#sk-container-id-1 div.sk-parallel-item::after {content: \"\";width: 100%;border-bottom: 1px solid gray;flex-grow: 1;}#sk-container-id-1 div.sk-label:hover label.sk-toggleable__label {background-color: #d4ebff;}#sk-container-id-1 div.sk-serial::before {content: \"\";position: absolute;border-left: 1px solid gray;box-sizing: border-box;top: 0;bottom: 0;left: 50%;z-index: 0;}#sk-container-id-1 div.sk-serial {display: flex;flex-direction: column;align-items: center;background-color: white;padding-right: 0.2em;padding-left: 0.2em;position: relative;}#sk-container-id-1 div.sk-item {position: relative;z-index: 1;}#sk-container-id-1 div.sk-parallel {display: flex;align-items: stretch;justify-content: center;background-color: white;position: relative;}#sk-container-id-1 div.sk-item::before, #sk-container-id-1 div.sk-parallel-item::before {content: \"\";position: absolute;border-left: 1px solid gray;box-sizing: border-box;top: 0;bottom: 0;left: 50%;z-index: -1;}#sk-container-id-1 div.sk-parallel-item {display: flex;flex-direction: column;z-index: 1;position: relative;background-color: white;}#sk-container-id-1 div.sk-parallel-item:first-child::after {align-self: flex-end;width: 50%;}#sk-container-id-1 div.sk-parallel-item:last-child::after {align-self: flex-start;width: 50%;}#sk-container-id-1 div.sk-parallel-item:only-child::after {width: 0;}#sk-container-id-1 div.sk-dashed-wrapped {border: 1px dashed gray;margin: 0 0.4em 0.5em 0.4em;box-sizing: border-box;padding-bottom: 0.4em;background-color: white;}#sk-container-id-1 div.sk-label label {font-family: monospace;font-weight: bold;display: inline-block;line-height: 1.2em;}#sk-container-id-1 div.sk-label-container {text-align: center;}#sk-container-id-1 div.sk-container {/* jupyter's `normalize.less` sets `[hidden] { display: none; }` but bootstrap.min.css set `[hidden] { display: none !important; }` so we also need the `!important` here to be able to override the default hidden behavior on the sphinx rendered scikit-learn.org. See: https://github.com/scikit-learn/scikit-learn/issues/21755 */display: inline-block !important;position: relative;}#sk-container-id-1 div.sk-text-repr-fallback {display: none;}</style><div id=\"sk-container-id-1\" class=\"sk-top-container\"><div class=\"sk-text-repr-fallback\"><pre>SVC(kernel=&#x27;linear&#x27;, probability=True)</pre><b>In a Jupyter environment, please rerun this cell to show the HTML representation or trust the notebook. <br />On GitHub, the HTML representation is unable to render, please try loading this page with nbviewer.org.</b></div><div class=\"sk-container\" hidden><div class=\"sk-item\"><div class=\"sk-estimator sk-toggleable\"><input class=\"sk-toggleable__control sk-hidden--visually\" id=\"sk-estimator-id-1\" type=\"checkbox\" checked><label for=\"sk-estimator-id-1\" class=\"sk-toggleable__label sk-toggleable__label-arrow\">SVC</label><div class=\"sk-toggleable__content\"><pre>SVC(kernel=&#x27;linear&#x27;, probability=True)</pre></div></div></div></div></div>"
      ],
      "text/plain": [
       "SVC(kernel='linear', probability=True)"
      ]
     },
     "execution_count": 4,
     "metadata": {},
     "output_type": "execute_result"
    }
   ],
   "source": [
    "# 10.1 (iv) Making the svm model using a linear kernel\n",
    "X_features = new_df[['DOJ Extended', 'Duration to accept offer', 'Notice period', 'Offered band', 'Pecent hike expected in CTC', 'Percent hike offered in CTC', 'Percent difference CTC', 'Joining Bonus', 'Candidate relocate actual', 'Gender', 'Candidate Source', 'Rex in Yrs', 'LOB', 'Location', 'Age']]\n",
    "Y_features = new_df['Status']\n",
    "\n",
    "X = pd.get_dummies(X_features, drop_first=True)\n",
    "Y = new_df.Status.map(lambda x: int(x == 'Joined'))\n",
    "\n",
    "train_X, test_X, train_Y, test_Y = train_test_split(X,Y,train_size=0.8, random_state=42) \n",
    "from sklearn.svm import SVC\n",
    "svm_model = SVC(kernel='linear', probability=True)  # You can change the kernel as needed (e.g., 'linear', 'rbf', 'poly', etc.)\n",
    "svm_model.fit(train_X, train_Y)"
   ]
  },
  {
   "cell_type": "code",
   "execution_count": 5,
   "id": "5e2d6c70",
   "metadata": {
    "scrolled": true
   },
   "outputs": [
    {
     "ename": "TypeError",
     "evalue": "cannot unpack non-iterable NoneType object",
     "output_type": "error",
     "traceback": [
      "\u001b[1;31m---------------------------------------------------------------------------\u001b[0m",
      "\u001b[1;31mTypeError\u001b[0m                                 Traceback (most recent call last)",
      "Cell \u001b[1;32mIn[5], line 2\u001b[0m\n\u001b[0;32m      1\u001b[0m \u001b[38;5;66;03m# Making ROC curve of SVM linear kernel\u001b[39;00m\n\u001b[1;32m----> 2\u001b[0m roc_auc_score, _, _, _ \u001b[38;5;241m=\u001b[39m draw_roc_curve( svm_model, test_X, test_Y)\n",
      "\u001b[1;31mTypeError\u001b[0m: cannot unpack non-iterable NoneType object"
     ]
    },
    {
     "data": {
      "image/png": "[encoded data removed]",
      "text/plain": [
       "<Figure size 800x600 with 1 Axes>"
      ]
     },
     "metadata": {},
     "output_type": "display_data"
    }
   ],
   "source": [
    "# Making ROC curve of SVM linear kernel\n",
    "roc_auc_score, _, _, _ = draw_roc_curve( svm_model, test_X, test_Y);"
   ]
  },
  {
   "cell_type": "code",
   "execution_count": null,
   "id": "f4a7f476",
   "metadata": {},
   "outputs": [],
   "source": [
    "print(\"roc_auc_score : \", roc_auc_score)"
   ]
  },
  {
   "cell_type": "code",
   "execution_count": null,
   "id": "d4631ae6",
   "metadata": {},
   "outputs": [],
   "source": [
    "# Analysing SMVM model with linear kernel using confusion matrix\n",
    "pred_Y_SVM_linear = svm_model.predict(test_X)\n",
    "draw_cm(test_Y, pred_Y_SVM_linear)"
   ]
  },
  {
   "cell_type": "code",
   "execution_count": null,
   "id": "e890a12f",
   "metadata": {},
   "outputs": [],
   "source": [
    "# Printing the model summary of SVM linear kernel\n",
    "print( metrics.classification_report( test_Y, pred_Y_SVM_linear ) )"
   ]
  },
  {
   "cell_type": "code",
   "execution_count": null,
   "id": "693afd60",
   "metadata": {},
   "outputs": [],
   "source": [
    "# Making the svm model with rbf kernel\n",
    "svm_model_rbf = SVC(kernel='rbf',C=1.0, gamma='scale', probability=True)  # You can change the kernel as needed (e.g., 'linear', 'rbf', 'poly', etc.)\n",
    "svm_model_rbf.fit(train_X, train_Y)"
   ]
  },
  {
   "cell_type": "code",
   "execution_count": null,
   "id": "4b2c8413",
   "metadata": {},
   "outputs": [],
   "source": [
    "# Making ROC curve of SVM linear kernel\n",
    "roc_auc_score_rbf, _, _, _ = draw_roc_curve( svm_model_rbf, test_X, test_Y);"
   ]
  },
  {
   "cell_type": "code",
   "execution_count": null,
   "id": "232ab4f0",
   "metadata": {},
   "outputs": [],
   "source": [
    "print(\"roc_auc_score : \", roc_auc_score_rbf)"
   ]
  },
  {
   "cell_type": "code",
   "execution_count": null,
   "id": "9e639826",
   "metadata": {},
   "outputs": [],
   "source": [
    "# Analysing SMVM model with rbf kernel using confusion matrix\n",
    "pred_Y_SVM_rbf = svm_model_rbf.predict(test_X)\n",
    "draw_cm(test_Y, pred_Y_SVM_rbf)"
   ]
  },
  {
   "cell_type": "code",
   "execution_count": null,
   "id": "8a95ae82",
   "metadata": {},
   "outputs": [],
   "source": [
    "# Printing the model summary of SVM rbf kernel\n",
    "print( metrics.classification_report( test_Y, pred_Y_SVM_rbf ) )"
   ]
  },
  {
   "cell_type": "code",
   "execution_count": null,
   "id": "c01710f7",
   "metadata": {},
   "outputs": [],
   "source": [
    "# Making the svm model with poly kernel\n",
    "svm_model_poly = SVC(kernel='poly', degree=3, C=1.0, gamma='scale', probability=True)  # You can change the kernel as needed (e.g., 'linear', 'rbf', 'poly', etc.)\n",
    "svm_model_poly.fit(train_X, train_Y)"
   ]
  },
  {
   "cell_type": "code",
   "execution_count": null,
   "id": "5a28c1d6",
   "metadata": {},
   "outputs": [],
   "source": [
    "# Making ROC curve of SVM poly kernel\n",
    "roc_auc_score_poly, _, _, _ = draw_roc_curve( svm_model_poly, test_X, test_Y);"
   ]
  },
  {
   "cell_type": "code",
   "execution_count": null,
   "id": "8f9af8c3",
   "metadata": {},
   "outputs": [],
   "source": [
    "print(\"roc_auc_score : \", roc_auc_score_poly)"
   ]
  },
  {
   "cell_type": "code",
   "execution_count": null,
   "id": "50d64008",
   "metadata": {},
   "outputs": [],
   "source": [
    "# Analysing SMVM model with poly kernel using confusion matrix\n",
    "pred_Y_SVM_poly = svm_model_poly.predict(test_X)\n",
    "draw_cm(test_Y, pred_Y_SVM_poly)"
   ]
  },
  {
   "cell_type": "code",
   "execution_count": null,
   "id": "9cf46f31",
   "metadata": {},
   "outputs": [],
   "source": [
    "# Printing the model summary of SVM poly kernel\n",
    "print( metrics.classification_report( test_Y, pred_Y_SVM_poly ) )"
   ]
  },
  {
   "cell_type": "code",
   "execution_count": null,
   "id": "878721de",
   "metadata": {},
   "outputs": [],
   "source": [
    "# Making the svm model with sigmoid kernel\n",
    "svm_model_sigmoid = SVC(kernel='sigmoid', C=1.0, gamma='scale', probability=True)  # You can change the kernel as needed (e.g., 'linear', 'rbf', 'poly', etc.)\n",
    "svm_model_sigmoid.fit(train_X, train_Y)"
   ]
  },
  {
   "cell_type": "code",
   "execution_count": null,
   "id": "56ca4cc6",
   "metadata": {},
   "outputs": [],
   "source": [
    "# Making ROC curve of SVM sigmoid kernel\n",
    "roc_auc_score_sigmoid, _, _, _ = draw_roc_curve( svm_model_sigmoid, test_X, test_Y);"
   ]
  },
  {
   "cell_type": "code",
   "execution_count": null,
   "id": "96733656",
   "metadata": {},
   "outputs": [],
   "source": [
    "print(\"roc_auc_score : \", roc_auc_score_sigmoid)"
   ]
  },
  {
   "cell_type": "code",
   "execution_count": null,
   "id": "ab15b421",
   "metadata": {},
   "outputs": [],
   "source": [
    "# Analysing SMVM model with sigmoid kernel using confusion matrix\n",
    "pred_Y_SVM_sigmoid = svm_model_sigmoid.predict(test_X)\n",
    "draw_cm(test_Y, pred_Y_SVM_sigmoid)"
   ]
  },
  {
   "cell_type": "code",
   "execution_count": null,
   "id": "f18a26d4",
   "metadata": {},
   "outputs": [],
   "source": [
    "# Printing the model summary of SVM sigmoid kernel\n",
    "print( metrics.classification_report( test_Y, pred_Y_SVM_sigmoid) )\n"
   ]
  },
  {
   "cell_type": "code",
   "execution_count": null,
   "id": "26d8266f",
   "metadata": {},
   "outputs": [],
   "source": []
  }
 ],
 "metadata": {
  "kernelspec": {
   "display_name": "Python 3 (ipykernel)",
   "language": "python",
   "name": "python3"
  },
  "language_info": {
   "codemirror_mode": {
    "name": "ipython",
    "version": 3
   },
   "file_extension": ".py",
   "mimetype": "text/x-python",
   "name": "python",
   "nbconvert_exporter": "python",
   "pygments_lexer": "ipython3",
   "version": "3.11.3"
  }
 },
 "nbformat": 4,
 "nbformat_minor": 5
}
