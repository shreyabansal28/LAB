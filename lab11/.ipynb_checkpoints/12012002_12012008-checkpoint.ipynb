{
 "cells": [
  {
   "cell_type": "code",
   "execution_count": 2,
   "id": "a7383601",
   "metadata": {},
   "outputs": [
    {
     "name": "stdout",
     "output_type": "stream",
     "text": [
      "<class 'pandas.core.frame.DataFrame'>\n",
      "RangeIndex: 8995 entries, 0 to 8994\n",
      "Data columns (total 18 columns):\n",
      " #   Column                       Non-Null Count  Dtype  \n",
      "---  ------                       --------------  -----  \n",
      " 0   SLNO                         8995 non-null   int64  \n",
      " 1   Candidate Ref                8995 non-null   int64  \n",
      " 2   DOJ Extended                 8995 non-null   object \n",
      " 3   Duration to accept offer     8995 non-null   int64  \n",
      " 4   Notice period                8995 non-null   int64  \n",
      " 5   Offered band                 8995 non-null   object \n",
      " 6   Pecent hike expected in CTC  8995 non-null   float64\n",
      " 7   Percent hike offered in CTC  8995 non-null   float64\n",
      " 8   Percent difference CTC       8995 non-null   float64\n",
      " 9   Joining Bonus                8995 non-null   object \n",
      " 10  Candidate relocate actual    8995 non-null   object \n",
      " 11  Gender                       8995 non-null   object \n",
      " 12  Candidate Source             8995 non-null   object \n",
      " 13  Rex in Yrs                   8995 non-null   int64  \n",
      " 14  LOB                          8995 non-null   object \n",
      " 15  Location                     8995 non-null   object \n",
      " 16  Age                          8995 non-null   int64  \n",
      " 17  Status                       8995 non-null   object \n",
      "dtypes: float64(3), int64(6), object(9)\n",
      "memory usage: 1.2+ MB\n"
     ]
    }
   ],
   "source": [
    "import pandas as pd\n",
    "import numpy as np\n",
    "import statsmodels.api as sm\n",
    "import seaborn as sn\n",
    "from sklearn.model_selection import train_test_split\n",
    "from sklearn.utils import resample\n",
    "import matplotlib.pyplot as plt\n",
    "df = pd.read_csv('hr_data.csv')\n",
    "df.info()"
   ]
  },
  {
   "cell_type": "code",
   "execution_count": 3,
   "id": "9c911cf9",
   "metadata": {},
   "outputs": [
    {
     "name": "stdout",
     "output_type": "stream",
     "text": [
      "percentage of people who joined :  81.30072262367982\n",
      "percentage of people who not joined :  18.69927737632018\n"
     ]
    }
   ],
   "source": [
    "from sklearn.utils import shuffle\n",
    "joined_counts = df['Status'].value_counts()['Joined'];\n",
    "not_joined_counts = df['Status'].value_counts()['Not Joined'];\n",
    "joined_precentage = (joined_counts)/(joined_counts + not_joined_counts)\n",
    "not_joined_percentage = 1 - joined_precentage\n",
    "\n",
    "print(\"percentage of people who joined : \", 100*joined_precentage)\n",
    "print(\"percentage of people who not joined : \", 100*not_joined_percentage)\n",
    "\n",
    "\n",
    "#1. Upsampling the dataset as not joined are less than 33%\n",
    "joined = df[df.Status == 'Joined']\n",
    "not_joined = df[df.Status == 'Not Joined']\n",
    "\n",
    "# Upsampling the Not joined cases\n",
    "upsampled_not_joined = resample(not_joined, replace = True, n_samples = 4000)\n",
    "\n",
    "# Combining the upsampled\n",
    "dfs = [joined, upsampled_not_joined]\n",
    "new_df = pd.concat(dfs)\n",
    "new_df = shuffle(new_df)"
   ]
  },
  {
   "cell_type": "code",
   "execution_count": 7,
   "id": "9a5c9c1d",
   "metadata": {},
   "outputs": [],
   "source": [
    "from sklearn import metrics\n",
    "def draw_roc_curve( model, test_X, test_y ):\n",
    "    test_results_df = pd.DataFrame( { 'actual': test_y } )\n",
    "    test_results_df = test_results_df.reset_index()\n",
    "    # predict the probabilities on the test set\n",
    "    predict_proba_df = pd.DataFrame( model.predict_proba( test_X ) )\n",
    "    ## selecting the probabilities that the test example belongs\n",
    "    ## to class 1\n",
    "    test_results_df['chd_1'] = predict_proba_df.iloc[:,1:2]\n",
    "    ## Invoke roc_curve() to return fpr, tpr and threshold values.\n",
    "    ## Threshold values contain values from 0.0 to 1.0\n",
    "    fpr, tpr, thresholds = metrics.roc_curve( test_results_df.actual,\n",
    "    test_results_df.chd_1,\n",
    "    drop_intermediate = False )\n",
    "    ## Getting roc auc score by invoking metrics.roc_auc_score method\n",
    "    auc_score = metrics.roc_auc_score( test_results_df.actual,\n",
    "    test_results_df.chd_1 )\n",
    "    ## Setting the size of the plot\n",
    "    plt.figure(figsize=(8, 6))\n",
    "    ## Plotting the actual fpr and tpr values\n",
    "    plt.plot(fpr, tpr, label = 'ROC curve (area = %0.2f)' % auc_score)\n",
    "    ## Plotting th diagnoal line from (0,1)\n",
    "    plt.plot([0, 1], [0, 1], 'k--')\n",
    "    plt.xlim([0.0, 1.0])\n",
    "    plt.ylim([0.0, 1.05])\n",
    "    ## Setting labels and titles\n",
    "    plt.xlabel('False Positive Rate or [1 - True Negative Rate]')\n",
    "\n",
    "def draw_cm( actual, predicted ):\n",
    "    confusion_matrix = metrics.confusion_matrix(actual, predicted)\n",
    "    sn.heatmap(confusion_matrix, annot=True, fmt='.2f', xticklabels=[\"Joined\", \"Not Joined\"], yticklabels=[\"Joined\", \"Not Joined\"])\n",
    "    plt.ylabel('True Label')\n",
    "    plt.xlabel('Predicted Label')\n",
    "    plt.show()\n",
    "    \n"
   ]
  },
  {
   "cell_type": "code",
   "execution_count": null,
   "id": "b67b014a",
   "metadata": {},
   "outputs": [],
   "source": [
    "# 10.1 (iv) Making the svm model using a linear kernel\n",
    "X_features = new_df[['DOJ Extended', 'Duration to accept offer', 'Notice period', 'Offered band', 'Pecent hike expected in CTC', 'Percent hike offered in CTC', 'Percent difference CTC', 'Joining Bonus', 'Candidate relocate actual', 'Gender', 'Candidate Source', 'Rex in Yrs', 'LOB', 'Location', 'Age']]\n",
    "Y_features = new_df['Status']\n",
    "\n",
    "X = pd.get_dummies(X_features, drop_first=True)\n",
    "Y = new_df.Status.map(lambda x: int(x == 'Joined'))\n",
    "\n",
    "train_X, test_X, train_Y, test_Y = train_test_split(X,Y,train_size=0.8, random_state=42) \n",
    "from sklearn.svm import SVC\n",
    "svm_model = SVC(kernel='linear', probability=True)  # You can change the kernel as needed (e.g., 'linear', 'rbf', 'poly', etc.)\n",
    "svm_model.fit(train_X, train_Y)"
   ]
  },
  {
   "cell_type": "code",
   "execution_count": 11,
   "id": "5e2d6c70",
   "metadata": {
    "scrolled": true
   },
   "outputs": [
    {
     "ename": "AttributeError",
     "evalue": "predict_proba is not available when  probability=False",
     "output_type": "error",
     "traceback": [
      "\u001b[1;31m---------------------------------------------------------------------------\u001b[0m",
      "\u001b[1;31mAttributeError\u001b[0m                            Traceback (most recent call last)",
      "Cell \u001b[1;32mIn[11], line 2\u001b[0m\n\u001b[0;32m      1\u001b[0m \u001b[38;5;66;03m# Making ROC curve of SVM linear kernel\u001b[39;00m\n\u001b[1;32m----> 2\u001b[0m roc_auc_score, _, _, _ \u001b[38;5;241m=\u001b[39m draw_roc_curve( svm_model, test_X, test_Y)\n",
      "Cell \u001b[1;32mIn[7], line 6\u001b[0m, in \u001b[0;36mdraw_roc_curve\u001b[1;34m(model, test_X, test_y)\u001b[0m\n\u001b[0;32m      4\u001b[0m test_results_df \u001b[38;5;241m=\u001b[39m test_results_df\u001b[38;5;241m.\u001b[39mreset_index()\n\u001b[0;32m      5\u001b[0m \u001b[38;5;66;03m# predict the probabilities on the test set\u001b[39;00m\n\u001b[1;32m----> 6\u001b[0m predict_proba_df \u001b[38;5;241m=\u001b[39m pd\u001b[38;5;241m.\u001b[39mDataFrame( model\u001b[38;5;241m.\u001b[39mpredict_proba( test_X ) )\n\u001b[0;32m      7\u001b[0m \u001b[38;5;66;03m## selecting the probabilities that the test example belongs\u001b[39;00m\n\u001b[0;32m      8\u001b[0m \u001b[38;5;66;03m## to class 1\u001b[39;00m\n\u001b[0;32m      9\u001b[0m test_results_df[\u001b[38;5;124m'\u001b[39m\u001b[38;5;124mchd_1\u001b[39m\u001b[38;5;124m'\u001b[39m] \u001b[38;5;241m=\u001b[39m predict_proba_df\u001b[38;5;241m.\u001b[39miloc[:,\u001b[38;5;241m1\u001b[39m:\u001b[38;5;241m2\u001b[39m]\n",
      "File \u001b[1;32m~\\anaconda3\\Lib\\site-packages\\sklearn\\utils\\_available_if.py:32\u001b[0m, in \u001b[0;36m_AvailableIfDescriptor.__get__\u001b[1;34m(self, obj, owner)\u001b[0m\n\u001b[0;32m     26\u001b[0m attr_err \u001b[38;5;241m=\u001b[39m \u001b[38;5;167;01mAttributeError\u001b[39;00m(\n\u001b[0;32m     27\u001b[0m     \u001b[38;5;124mf\u001b[39m\u001b[38;5;124m\"\u001b[39m\u001b[38;5;124mThis \u001b[39m\u001b[38;5;132;01m{\u001b[39;00m\u001b[38;5;28mrepr\u001b[39m(owner\u001b[38;5;241m.\u001b[39m\u001b[38;5;18m__name__\u001b[39m)\u001b[38;5;132;01m}\u001b[39;00m\u001b[38;5;124m has no attribute \u001b[39m\u001b[38;5;132;01m{\u001b[39;00m\u001b[38;5;28mrepr\u001b[39m(\u001b[38;5;28mself\u001b[39m\u001b[38;5;241m.\u001b[39mattribute_name)\u001b[38;5;132;01m}\u001b[39;00m\u001b[38;5;124m\"\u001b[39m\n\u001b[0;32m     28\u001b[0m )\n\u001b[0;32m     29\u001b[0m \u001b[38;5;28;01mif\u001b[39;00m obj \u001b[38;5;129;01mis\u001b[39;00m \u001b[38;5;129;01mnot\u001b[39;00m \u001b[38;5;28;01mNone\u001b[39;00m:\n\u001b[0;32m     30\u001b[0m     \u001b[38;5;66;03m# delegate only on instances, not the classes.\u001b[39;00m\n\u001b[0;32m     31\u001b[0m     \u001b[38;5;66;03m# this is to allow access to the docstrings.\u001b[39;00m\n\u001b[1;32m---> 32\u001b[0m     \u001b[38;5;28;01mif\u001b[39;00m \u001b[38;5;129;01mnot\u001b[39;00m \u001b[38;5;28mself\u001b[39m\u001b[38;5;241m.\u001b[39mcheck(obj):\n\u001b[0;32m     33\u001b[0m         \u001b[38;5;28;01mraise\u001b[39;00m attr_err\n\u001b[0;32m     34\u001b[0m     out \u001b[38;5;241m=\u001b[39m MethodType(\u001b[38;5;28mself\u001b[39m\u001b[38;5;241m.\u001b[39mfn, obj)\n",
      "File \u001b[1;32m~\\anaconda3\\Lib\\site-packages\\sklearn\\svm\\_base.py:829\u001b[0m, in \u001b[0;36mBaseSVC._check_proba\u001b[1;34m(self)\u001b[0m\n\u001b[0;32m    827\u001b[0m \u001b[38;5;28;01mdef\u001b[39;00m \u001b[38;5;21m_check_proba\u001b[39m(\u001b[38;5;28mself\u001b[39m):\n\u001b[0;32m    828\u001b[0m     \u001b[38;5;28;01mif\u001b[39;00m \u001b[38;5;129;01mnot\u001b[39;00m \u001b[38;5;28mself\u001b[39m\u001b[38;5;241m.\u001b[39mprobability:\n\u001b[1;32m--> 829\u001b[0m         \u001b[38;5;28;01mraise\u001b[39;00m \u001b[38;5;167;01mAttributeError\u001b[39;00m(\n\u001b[0;32m    830\u001b[0m             \u001b[38;5;124m\"\u001b[39m\u001b[38;5;124mpredict_proba is not available when  probability=False\u001b[39m\u001b[38;5;124m\"\u001b[39m\n\u001b[0;32m    831\u001b[0m         )\n\u001b[0;32m    832\u001b[0m     \u001b[38;5;28;01mif\u001b[39;00m \u001b[38;5;28mself\u001b[39m\u001b[38;5;241m.\u001b[39m_impl \u001b[38;5;129;01mnot\u001b[39;00m \u001b[38;5;129;01min\u001b[39;00m (\u001b[38;5;124m\"\u001b[39m\u001b[38;5;124mc_svc\u001b[39m\u001b[38;5;124m\"\u001b[39m, \u001b[38;5;124m\"\u001b[39m\u001b[38;5;124mnu_svc\u001b[39m\u001b[38;5;124m\"\u001b[39m):\n\u001b[0;32m    833\u001b[0m         \u001b[38;5;28;01mraise\u001b[39;00m \u001b[38;5;167;01mAttributeError\u001b[39;00m(\u001b[38;5;124m\"\u001b[39m\u001b[38;5;124mpredict_proba only implemented for SVC and NuSVC\u001b[39m\u001b[38;5;124m\"\u001b[39m)\n",
      "\u001b[1;31mAttributeError\u001b[0m: predict_proba is not available when  probability=False"
     ]
    }
   ],
   "source": [
    "# Making ROC curve of SVM linear kernel\n",
    "roc_auc_score, _, _, _ = draw_roc_curve( svm_model, test_X, test_Y);"
   ]
  },
  {
   "cell_type": "code",
   "execution_count": null,
   "id": "f4a7f476",
   "metadata": {},
   "outputs": [],
   "source": [
    "print(\"roc_auc_score : \", roc_auc_score)"
   ]
  },
  {
   "cell_type": "code",
   "execution_count": null,
   "id": "d4631ae6",
   "metadata": {},
   "outputs": [],
   "source": [
    "# Analysing SMVM model with linear kernel using confusion matrix\n",
    "pred_Y_SVM_linear = svm_model.predict(test_X)\n",
    "draw_cm(test_Y, pred_Y_SVM_linear)"
   ]
  },
  {
   "cell_type": "code",
   "execution_count": null,
   "id": "e890a12f",
   "metadata": {},
   "outputs": [],
   "source": [
    "# Printing the model summary of SVM linear kernel\n",
    "print( metrics.classification_report( test_Y, pred_Y_SVM_linear ) )"
   ]
  },
  {
   "cell_type": "code",
   "execution_count": null,
   "id": "693afd60",
   "metadata": {},
   "outputs": [],
   "source": [
    "# Making the svm model with rbf kernel\n",
    "svm_model_rbf = SVC(kernel='rbf', probability=True)  # You can change the kernel as needed (e.g., 'linear', 'rbf', 'poly', etc.)\n",
    "svm_model_rbf.fit(train_X, train_Y)"
   ]
  },
  {
   "cell_type": "code",
   "execution_count": null,
   "id": "4b2c8413",
   "metadata": {},
   "outputs": [],
   "source": [
    "# Making ROC curve of SVM linear kernel\n",
    "roc_auc_score_rbf, _, _, _ = draw_roc_curve( svm_model_rbf, test_X, test_Y);"
   ]
  },
  {
   "cell_type": "code",
   "execution_count": null,
   "id": "232ab4f0",
   "metadata": {},
   "outputs": [],
   "source": [
    "print(\"roc_auc_score : \", roc_auc_score_rbf)"
   ]
  },
  {
   "cell_type": "code",
   "execution_count": null,
   "id": "9e639826",
   "metadata": {},
   "outputs": [],
   "source": [
    "# Analysing SMVM model with rbf kernel using confusion matrix\n",
    "pred_Y_SVM_rbf = svm_model_rbf.predict(test_X)\n",
    "draw_cm(test_Y, pred_Y_SVM_rbf)"
   ]
  },
  {
   "cell_type": "code",
   "execution_count": null,
   "id": "8a95ae82",
   "metadata": {},
   "outputs": [],
   "source": [
    "# Printing the model summary of SVM rbf kernel\n",
    "print( metrics.classification_report( test_Y, pred_Y_SVM_rbf ) )"
   ]
  },
  {
   "cell_type": "code",
   "execution_count": null,
   "id": "c01710f7",
   "metadata": {},
   "outputs": [],
   "source": [
    "# Making the svm model with poly kernel\n",
    "svm_model_poly = SVC(kernel='poly', probability=True)  # You can change the kernel as needed (e.g., 'linear', 'rbf', 'poly', etc.)\n",
    "svm_model_poly.fit(train_X, train_Y)"
   ]
  },
  {
   "cell_type": "code",
   "execution_count": null,
   "id": "5a28c1d6",
   "metadata": {},
   "outputs": [],
   "source": [
    "# Making ROC curve of SVM poly kernel\n",
    "roc_auc_score_poly, _, _, _ = draw_roc_curve( svm_model_poly, test_X, test_Y);"
   ]
  },
  {
   "cell_type": "code",
   "execution_count": null,
   "id": "8f9af8c3",
   "metadata": {},
   "outputs": [],
   "source": [
    "print(\"roc_auc_score : \", roc_auc_score_poly)"
   ]
  },
  {
   "cell_type": "code",
   "execution_count": null,
   "id": "50d64008",
   "metadata": {},
   "outputs": [],
   "source": [
    "# Analysing SMVM model with poly kernel using confusion matrix\n",
    "pred_Y_SVM_poly = svm_model_poly.predict(test_X)\n",
    "draw_cm(test_Y, pred_Y_SVM_poly)"
   ]
  },
  {
   "cell_type": "code",
   "execution_count": null,
   "id": "9cf46f31",
   "metadata": {},
   "outputs": [],
   "source": [
    "# Printing the model summary of SVM poly kernel\n",
    "print( metrics.classification_report( test_Y, pred_Y_SVM_poly ) )"
   ]
  },
  {
   "cell_type": "code",
   "execution_count": null,
   "id": "878721de",
   "metadata": {},
   "outputs": [],
   "source": [
    "# Making the svm model with sigmoid kernel\n",
    "svm_model_sigmoid = SVC(kernel='sigmoid', probability=True)  # You can change the kernel as needed (e.g., 'linear', 'rbf', 'poly', etc.)\n",
    "svm_model_sigmoid.fit(train_X, train_Y)"
   ]
  },
  {
   "cell_type": "code",
   "execution_count": null,
   "id": "56ca4cc6",
   "metadata": {},
   "outputs": [],
   "source": [
    "# Making ROC curve of SVM sigmoid kernel\n",
    "roc_auc_score_sigmoid, _, _, _ = draw_roc_curve( svm_model_sigmoid, test_X, test_Y);"
   ]
  },
  {
   "cell_type": "code",
   "execution_count": null,
   "id": "96733656",
   "metadata": {},
   "outputs": [],
   "source": [
    "print(\"roc_auc_score : \", roc_auc_score_sigmoid)"
   ]
  },
  {
   "cell_type": "code",
   "execution_count": null,
   "id": "ab15b421",
   "metadata": {},
   "outputs": [],
   "source": [
    "# Analysing SMVM model with sigmoid kernel using confusion matrix\n",
    "pred_Y_SVM_simgoid = svm_model_sigmoid.predict(test_X)\n",
    "draw_cm(test_Y, pred_Y_SVM_sigmoid)"
   ]
  },
  {
   "cell_type": "code",
   "execution_count": null,
   "id": "f18a26d4",
   "metadata": {},
   "outputs": [],
   "source": [
    "# Printing the model summary of SVM sigmoid kernel\n",
    "print( metrics.classification_report( test_Y, pred_Y_SVM) )"
   ]
  },
  {
   "cell_type": "code",
   "execution_count": null,
   "id": "26d8266f",
   "metadata": {},
   "outputs": [],
   "source": []
  }
 ],
 "metadata": {
  "kernelspec": {
   "display_name": "Python 3 (ipykernel)",
   "language": "python",
   "name": "python3"
  },
  "language_info": {
   "codemirror_mode": {
    "name": "ipython",
    "version": 3
   },
   "file_extension": ".py",
   "mimetype": "text/x-python",
   "name": "python",
   "nbconvert_exporter": "python",
   "pygments_lexer": "ipython3",
   "version": "3.11.3"
  }
 },
 "nbformat": 4,
 "nbformat_minor": 5
}
